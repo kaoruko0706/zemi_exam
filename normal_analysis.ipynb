{
  "nbformat": 4,
  "nbformat_minor": 0,
  "metadata": {
    "colab": {
      "provenance": []
    },
    "kernelspec": {
      "name": "python3",
      "display_name": "Python 3"
    },
    "language_info": {
      "name": "python"
    }
  },
  "cells": [
    {
      "cell_type": "markdown",
      "source": [
        "オーバーサンプリングを行い、クラスの不均衡を解消した状態で再び分類器によるモデルを構築します。\n",
        "前半はチューニング前の分析、後半はチューニング後のパラメータを設定し直した分類器でモデルを再構築しています。以下のリストはコードの概要\n",
        "1. データの前処理・オーバーサンプリング\n",
        "2. 必要な機械学習のライブラリをインポート\n",
        "3. 分類器の定義(チューニング前のデフォルト値)\n",
        "4. K分割交差検証なしの状態でのROC曲線、AUCのスコア\n",
        "5. 交差検証なしの場合での正解率\n",
        "6. 交差検証なしの場合での再現率\n",
        "7. 層化K分割交差検証を使った状態でのROC曲線、AUCのスコア\n",
        "8. 交差検証を行った状態での正解率\n",
        "9. 交差検証を行った状態での再現率\n",
        "10. ハイパーパラメータでチューニング結果が最良だったものを分類器に設定し、再定義\n",
        "11. コード10番で定義したものをもとに層化K分割交差検証を行い、ROC曲線とAUCを求める\n",
        "12. 正解率を求める\n",
        "13. 再現率を求める\n",
        "14. 正解率とAUCのスコアの合計が高かった分類器上位3つを選んで多数決分類器を定義\n",
        "15. 多数決分類器と他の3つの分類器を使ったROC曲線とAUCを計算。\n",
        "16. 多数決分類器・他3つの分類器の正解率を求める\n",
        "\n",
        "結論:サンプリング、分割検証による性能の向上がとくに著しい。K分割交差検証はアンサンブル分類器に、サンプリングはどの分類器にも貢献。サンプリングを行ったことでAUCや正解率を正常に使って評価することができるようになった。チューニングを行うとやや性能は改善された。多数決分類器の実装は元々高性能な分類器を組み合わせれば盤石のモデルとなることが分かった。"
      ],
      "metadata": {
        "id": "t9ir8qXIm2ui"
      }
    },
    {
      "cell_type": "code",
      "execution_count": 1,
      "metadata": {
        "id": "k05mASbRJhoX"
      },
      "outputs": [],
      "source": [
        "#データの前処理・オーバーサンプリング\n",
        "import pandas as pd\n",
        "import numpy as np\n",
        "import matplotlib.pyplot as plt\n",
        "from sklearn.model_selection import train_test_split\n",
        "from sklearn.preprocessing import StandardScaler\n",
        "df=pd.read_csv(\"train.csv\")\n",
        "#データのエンコーディング。（IDは不要と考え、予め抜いています）\n",
        "#数値データ以外のカラムは順序特徴量として扱えるような根拠となるデータが無かったので、全て名義特徴量として扱っています。\n",
        "#one-hotエンコーディングでデータ処理を行いました。多重共線性を抑えるため、エンコーディングした列の1つを削除しています。(drop_first=True)\n",
        "df_dummy=pd.get_dummies(df[[\"job\",\"marital\",\"education\",\n",
        "                            \"default\",\"housing\",\"loan\",\n",
        "                            \"contact\",\"month\",\"poutcome\",\"subscribed\",\n",
        "                            \"age\",\"balance\",\"day\",\"previous\",\n",
        "                            \"duration\",\"campaign\",\"pdays\"]],drop_first=True)\n",
        "X,y=df_dummy.iloc[:,0:42],df_dummy.iloc[:,42].values\n",
        "X_train,X_test,y_train,y_test=train_test_split(X,y,test_size=0.3,random_state=1,stratify=y)\n",
        "#データの標準化\n",
        "sc=StandardScaler()\n",
        "X_train=sc.fit_transform(X_train)\n",
        "X_test=sc.fit_transform(X_test)\n",
        "#データのオーバーサンプリング。SMOTEを使用しています。\n",
        "from imblearn import FunctionSampler\n",
        "from imblearn.over_sampling import SMOTE\n",
        "from sklearn.datasets import make_classification\n",
        "sm = SMOTE(random_state=2)\n",
        "X_train_res,y_train_res=sm.fit_resample(X_train,y_train.ravel())"
      ]
    },
    {
      "cell_type": "code",
      "source": [
        "#機械学習に必要な分類器や、K分割交差検証などのツールの呼び出し\n",
        "from sklearn.linear_model import LogisticRegression\n",
        "from sklearn.tree import DecisionTreeClassifier\n",
        "from sklearn.neighbors import KNeighborsClassifier\n",
        "from sklearn.svm import SVC\n",
        "from sklearn.ensemble import RandomForestClassifier\n",
        "from sklearn.ensemble import AdaBoostClassifier\n",
        "from sklearn.ensemble import GradientBoostingClassifier\n",
        "from sklearn.model_selection import cross_val_score\n",
        "from sklearn.model_selection import StratifiedKFold\n",
        "from sklearn.metrics import roc_auc_score,roc_curve,auc\n",
        "from sklearn.metrics import recall_score,classification_report"
      ],
      "metadata": {
        "id": "I4K_6WbdLb5S"
      },
      "execution_count": 2,
      "outputs": []
    },
    {
      "cell_type": "code",
      "source": [
        "#分類器の設定：チューニング前なので全てデフォルトで設定しています。\n",
        "log=LogisticRegression(random_state=1)\n",
        "dt=DecisionTreeClassifier(random_state=1)\n",
        "knn=KNeighborsClassifier()\n",
        "svc=SVC(probability=True)\n",
        "rfc=RandomForestClassifier(random_state=1)\n",
        "ada=AdaBoostClassifier(base_estimator=dt,random_state=1)\n",
        "gb=GradientBoostingClassifier(random_state=1)\n",
        "all_clf=[log,dt,knn,svc,rfc,ada,gb]\n",
        "clf_labels=[\"LogisticRegression\",\"DecisionTree\",\"KNeighbor\",\n",
        "            \"SVC\",\"RandomForest\",\"AdaBoost\",\"GradientBoost\"]"
      ],
      "metadata": {
        "id": "pPx2HJrtM3Un"
      },
      "execution_count": 3,
      "outputs": []
    },
    {
      "cell_type": "code",
      "source": [
        "#結果ROC_AUCのプロット。K分割交差検証なしの状態で、性能を見ています。\n",
        "fig=plt.figure(figsize=(6,4))\n",
        "colors=[\"blue\",\"green\",\"red\",\"purple\",\"orange\",\"cyan\",\"olive\"]\n",
        "for clf,label,clr in zip(all_clf,clf_labels,colors):\n",
        "  y_pred=clf.fit(X_train_res,y_train_res).predict_proba(X_test)[:,1]\n",
        "  fpr,tpr,thresholds=roc_curve(y_true=y_test,y_score=y_pred)\n",
        "  roc_auc=auc(x=fpr,y=tpr)\n",
        "  plt.plot(fpr,tpr,color=clr,label=\"%s(auc=%0.2f)\"%(label,roc_auc))\n",
        "plt.legend(loc=\"lower right\")\n",
        "plt.plot([0,0,1],[0,1,1],\n",
        "         linestyle=\":\",color=\"black\",label=\"Perfect Perfomance\")\n",
        "plt.plot([0,1],[0,1],linestyle=\"--\",color=\"gray\",linewidth=2,label=\"Random Guessing\")\n",
        "plt.xlim([-0.1,1.1])\n",
        "plt.ylim([-0.1,1.1])\n",
        "plt.grid(alpha=0.5)\n",
        "plt.xlabel(\"FPR\")\n",
        "plt.ylabel(\"TPR\")\n",
        "plt.show\n",
        "#出力結果から、この時点で最も優秀なのはロジスティックとSVC。auc=0.91\n",
        "#層化K分割検証も行って、性能を測定します。"
      ],
      "metadata": {
        "id": "lO7ZHtGeLw5N"
      },
      "execution_count": null,
      "outputs": []
    },
    {
      "cell_type": "code",
      "source": [
        "#交差検証なしの場合でのaccuracyを見ています。\n",
        "for clf,label in zip(all_clf,clf_labels):\n",
        "  clf.fit(X_train_res,y_train_res)\n",
        "  print(\"accuracy: %0.2f [%s]\" % (clf.score(X_test,y_test),label) ) #小数点第二位まで計算\n",
        "#出力結果から、交差検証をしない場合、正解率がかなり低くなってしまう（アンサンブルは特に）ことが分かりました。"
      ],
      "metadata": {
        "colab": {
          "base_uri": "https://localhost:8080/"
        },
        "id": "SHkIb4rTf1A1",
        "outputId": "3fd05cb7-3526-4e81-a24f-490fb469cfd4"
      },
      "execution_count": null,
      "outputs": [
        {
          "output_type": "stream",
          "name": "stdout",
          "text": [
            "accuracy: 0.85 [Logistic Regression]\n",
            "accuracy: 0.74 [DecisionTree]\n",
            "accuracy: 0.83 [KNeighbor]\n",
            "accuracy: 0.86 [SVC]\n",
            "accuracy: 0.66 [RandomForest]\n"
          ]
        },
        {
          "output_type": "stream",
          "name": "stderr",
          "text": [
            "/usr/local/lib/python3.8/dist-packages/sklearn/ensemble/_base.py:166: FutureWarning: `base_estimator` was renamed to `estimator` in version 1.2 and will be removed in 1.4.\n",
            "  warnings.warn(\n"
          ]
        },
        {
          "output_type": "stream",
          "name": "stdout",
          "text": [
            "accuracy: 0.74 [AdaBoost]\n",
            "accuracy: 0.35 [GradientBoost]\n"
          ]
        }
      ]
    },
    {
      "cell_type": "code",
      "source": [
        "#交差検証なし　recallスコア\n",
        "from sklearn.metrics import recall_score\n",
        "for clf,label in zip(all_clf,clf_labels):\n",
        "  clf.fit(X_train_res,y_train_res)\n",
        "  y_pred=clf.predict(X_test)\n",
        "  scores=recall_score(y_test,y_pred)\n",
        "  print(\"recall: %0.2f(+/- %0.2f) [%s]\" % (scores.mean(),scores.std(),label))"
      ],
      "metadata": {
        "colab": {
          "base_uri": "https://localhost:8080/"
        },
        "id": "1lJgksRtN6Ro",
        "outputId": "38f5b31f-fd4c-4830-edac-27fe32a09d60"
      },
      "execution_count": 10,
      "outputs": [
        {
          "output_type": "stream",
          "name": "stdout",
          "text": [
            "recall: 0.81(+/- 0.00) [LogisticRegression]\n",
            "recall: 0.79(+/- 0.00) [DecisionTree]\n",
            "recall: 0.68(+/- 0.00) [KNeighbor]\n",
            "recall: 0.77(+/- 0.00) [SVC]\n",
            "recall: 0.93(+/- 0.00) [RandomForest]\n"
          ]
        },
        {
          "output_type": "stream",
          "name": "stderr",
          "text": [
            "/usr/local/lib/python3.9/dist-packages/sklearn/ensemble/_base.py:166: FutureWarning: `base_estimator` was renamed to `estimator` in version 1.2 and will be removed in 1.4.\n",
            "  warnings.warn(\n"
          ]
        },
        {
          "output_type": "stream",
          "name": "stdout",
          "text": [
            "recall: 0.81(+/- 0.00) [AdaBoost]\n",
            "recall: 0.99(+/- 0.00) [GradientBoost]\n"
          ]
        }
      ]
    },
    {
      "cell_type": "code",
      "source": [
        "#層化K分割交差検証を行った状態で、ROC曲線をプロット\n",
        "from sklearn.model_selection import StratifiedKFold\n",
        "from scipy import interp\n",
        "cv=list(StratifiedKFold(n_splits=5).split(X_train_res,y_train_res))\n",
        "fig = plt.figure(figsize=(7,5))\n",
        "#logistic\n",
        "mean_fpr_log=np.linspace(0,1,100)\n",
        "mean_tpr_log= 0.0\n",
        "for i,(train, test) in enumerate(cv):\n",
        "  probas = log.fit(X_train_res[train], y_train_res[train]).predict_proba(X_train_res[test])\n",
        "  fpr_log,tpr_log,thresholds_log=roc_curve(y_train_res[test], probas[:, 1], pos_label=1)\n",
        "  mean_tpr_log+=interp(mean_fpr_log,fpr_log,tpr_log)\n",
        "  mean_tpr_log[0]=0\n",
        "  roc_auc_log=auc(fpr_log, tpr_log)\n",
        "mean_tpr_log=mean_tpr_log/len(cv)\n",
        "mean_auc_log=auc(mean_fpr_log, mean_tpr_log)\n",
        "plt.plot(mean_fpr_log, mean_tpr_log,color=\"blue\",\n",
        "         label=\"%s(auc=%0.2f)\"%(clf_labels[0],mean_auc_log))\n",
        "#decisiontree\n",
        "mean_fpr_dt=np.linspace(0,1,100)\n",
        "mean_tpr_dt=0.0\n",
        "for i,(train, test) in enumerate(cv):\n",
        "  probas=dt.fit(X_train_res[train],y_train_res[train]).predict_proba(X_train_res[test])\n",
        "  fpr_dt,tpr_dt,thresholds_dt=roc_curve(y_train_res[test],probas[:,1],pos_label=1)\n",
        "  mean_tpr_dt+=interp(mean_fpr_dt,fpr_dt,tpr_dt)\n",
        "  mean_tpr_dt[0]=0\n",
        "  roc_auc_dt=auc(fpr_dt,tpr_dt)\n",
        "mean_tpr_dt=mean_tpr_dt/len(cv)\n",
        "mean_auc_dt=auc(mean_fpr_dt,mean_tpr_dt)\n",
        "plt.plot(mean_fpr_dt,mean_tpr_dt,color=\"green\",label=\"%s(auc=%0.2f)\"%(clf_labels[1],mean_auc_dt))\n",
        "#kneighbor\n",
        "mean_fpr_knn=np.linspace(0,1,100)\n",
        "mean_tpr_knn=0.0\n",
        "for i,(train, test) in enumerate(cv):\n",
        "  probas=knn.fit(X_train_res[train],y_train_res[train]).predict_proba(X_train_res[test])\n",
        "  fpr_knn,tpr_knn,thresholds_knn=roc_curve(y_train_res[test],probas[:,1],pos_label=1)\n",
        "  mean_tpr_knn+=interp(mean_fpr_knn,fpr_knn,tpr_knn)\n",
        "  mean_tpr_knn[0]=0\n",
        "  roc_auc_knn=auc(fpr_knn, tpr_knn)\n",
        "mean_tpr_knn=mean_tpr_knn/len(cv)\n",
        "mean_auc_knn=auc(mean_fpr_knn,mean_tpr_knn)\n",
        "plt.plot(mean_fpr_knn,mean_tpr_knn,color=\"red\",\n",
        "         label=\"%s(auc=%0.2f)\"%(clf_labels[2],mean_auc_knn))\n",
        "#SVC\n",
        "mean_fpr_svc=np.linspace(0,1,100)\n",
        "mean_tpr_svc=0.0\n",
        "for i,(train, test) in enumerate(cv):\n",
        "  probas=svc.fit(X_train_res[train],y_train_res[train]).predict_proba(X_train_res[test])\n",
        "  fpr_svc,tpr_svc,thresholds_svc=roc_curve(y_train_res[test],probas[:,1],pos_label=1)\n",
        "  mean_tpr_svc+=interp(mean_fpr_svc,fpr_svc,tpr_svc)\n",
        "  mean_tpr_svc[0]=0\n",
        "  roc_auc_svc=auc(fpr_svc,tpr_svc)\n",
        "mean_tpr_svc=mean_tpr_svc/len(cv)\n",
        "mean_auc_svc=auc(mean_fpr_svc,mean_tpr_svc)\n",
        "plt.plot(mean_fpr_svc,mean_tpr_svc,color=\"purple\",\n",
        "         label=\"%s(auc=%0.2f)\"%(clf_labels[3],mean_auc_svc))\n",
        "#randomforest\n",
        "mean_fpr_rfc=np.linspace(0,1,100)\n",
        "mean_tpr_rfc=0.0\n",
        "for i,(train, test) in enumerate(cv):\n",
        "  probas=rfc.fit(X_train_res[train],y_train_res[train]).predict_proba(X_train_res[test])\n",
        "  fpr_rfc,tpr_rfc,thresholds_rfc=roc_curve(y_train_res[test],probas[:,1],pos_label=1)\n",
        "  mean_tpr_rfc+=interp(mean_fpr_rfc,fpr_rfc,tpr_rfc)\n",
        "  mean_tpr_rfc[0]=0\n",
        "  roc_auc_rfc=auc(fpr_rfc,tpr_rfc)\n",
        "mean_tpr_rfc=mean_tpr_rfc/len(cv)\n",
        "mean_auc_rfc=auc(mean_fpr_rfc,mean_tpr_rfc)\n",
        "plt.plot(mean_fpr_rfc,mean_tpr_rfc,color=\"orange\",\n",
        "         label=\"%s(auc=%0.2f)\"%(clf_labels[4],mean_auc_rfc))\n",
        "#adaboost\n",
        "mean_fpr_ada=np.linspace(0,1,100)\n",
        "mean_tpr_ada=0.0\n",
        "for i,(train,test) in enumerate(cv):\n",
        "  probas=ada.fit(X_train_res[train],y_train_res[train]).predict_proba(X_train_res[test])\n",
        "  fpr_ada,tpr_ada,thresholds_ada=roc_curve(y_train_res[test],probas[:,1],pos_label=1)\n",
        "  mean_tpr_ada+=interp(mean_fpr_ada,fpr_ada,tpr_ada)\n",
        "  mean_tpr_ada[0]=0\n",
        "  roc_auc_ada=auc(fpr_ada,tpr_ada)\n",
        "mean_tpr_ada=mean_tpr_ada/len(cv)\n",
        "mean_auc_ada=auc(mean_fpr_ada,mean_tpr_ada)\n",
        "plt.plot(mean_fpr_ada,mean_tpr_ada,color=\"cyan\",\n",
        "         label=\"%s(auc=%0.2f)\"%(clf_labels[5],mean_auc_ada))\n",
        "#gradientboost\n",
        "mean_fpr_gb=np.linspace(0,1,100)\n",
        "mean_tpr_gb=0.0\n",
        "for i,(train, test) in enumerate(cv):\n",
        "  probas=gb.fit(X_train_res[train],y_train_res[train]).predict_proba(X_train_res[test])\n",
        "  fpr_gb,tpr_gb,thresholds_gb=roc_curve(y_train_res[test],probas[:,1],pos_label=1)\n",
        "  mean_tpr_gb+=interp(mean_fpr_gb,fpr_gb,tpr_gb)\n",
        "  mean_tpr_gb[0]=0\n",
        "  roc_auc_gb=auc(fpr_gb,tpr_gb)\n",
        "mean_tpr_gb=mean_tpr_gb/len(cv)\n",
        "mean_auc_gb=auc(mean_fpr_gb,mean_tpr_gb)\n",
        "plt.plot(mean_fpr_gb,mean_tpr_gb,color=\"olive\",\n",
        "         label=\"%s(auc=%0.2f)\"%(clf_labels[6],mean_auc_gb))\n",
        "# ランダムチョイスの結果をプロット\n",
        "plt.plot([0, 1], [0, 1],linestyle='--', color=(0.6,0.6,0.6),label='random guessing')\n",
        "#完璧な予測をした場合の結果をプロット\n",
        "plt.plot([0, 0, 1], [0, 1, 1], lw=2, linestyle=':', color='black', label='perfect performance')\n",
        "plt.xlim([-0.05, 1.05])\n",
        "plt.ylim([-0.05, 1.05])\n",
        "plt.xlabel('false positive rate')\n",
        "plt.ylabel('true positive rate')\n",
        "plt.title('Receiver Operator Characteristic')\n",
        "plt.legend(loc='lower right')\n",
        "plt.grid(alpha=0.5)\n",
        "plt.show()\n",
        "#精度がかなり良くなっていることが分かります。\n",
        "#randomforestは0.99にまでAUCが改善されていることが分かります"
      ],
      "metadata": {
        "id": "3-d_-3_qSJtC"
      },
      "execution_count": null,
      "outputs": []
    },
    {
      "cell_type": "code",
      "source": [
        "#accuracyのスコア　交差検証あり\n",
        "for clf,label in zip(all_clf,clf_labels):\n",
        "  scores=cross_val_score(estimator=clf,\n",
        "                         X=X_train_res,\n",
        "                         y=y_train_res,cv=5,\n",
        "                         scoring=\"accuracy\")\n",
        "  print(\"accuracy: %0.2f(+/- %0.2f) [%s]\" % (scores.mean(),scores.std(),label))"
      ],
      "metadata": {
        "id": "hWivZR5FQHG6"
      },
      "execution_count": null,
      "outputs": []
    },
    {
      "cell_type": "code",
      "source": [
        "#recallのスコア　交差検証あり\n",
        "for clf,label in zip(all_clf,clf_labels):\n",
        "  scores=cross_val_score(estimator=clf,\n",
        "                         X=X_train_res,\n",
        "                         y=y_train_res,cv=5,\n",
        "                         scoring=\"recall\")\n",
        "  print(\"recall: %0.2f(+/- %0.2f) [%s]\" % (scores.mean(),scores.std(),label))"
      ],
      "metadata": {
        "id": "FBtH94OhqIkj"
      },
      "execution_count": null,
      "outputs": []
    },
    {
      "cell_type": "code",
      "source": [
        "#チューニング結果をまとめてグラフにプロット\n",
        "#分類器の定義：チューニング結果から、最良と思われるパラメータを設定しています。\n",
        "log_best=LogisticRegression(random_state=1,\n",
        "                            C=0.01,solver=\"liblinear\",\n",
        "                            penalty=\"l2\")\n",
        "dt_best=DecisionTreeClassifier(random_state=1,\n",
        "                               criterion=\"entropy\",\n",
        "                               max_depth=None,\n",
        "                               max_features=\"auto\")\n",
        "knn_best=KNeighborsClassifier(n_neighbors=1,\n",
        "                              weights=\"uniform\")\n",
        "svc_best=SVC(probability=True,\n",
        "             kernel=\"rbf\",\n",
        "             C=1)\n",
        "rfc_best=RandomForestClassifier(random_state=1,\n",
        "                                criterion=\"entropy\",\n",
        "                                max_depth=None,\n",
        "                                max_features=\"log2\",\n",
        "                                n_estimators=200)\n",
        "ada_best=AdaBoostClassifier(base_estimator=dt_best,\n",
        "                            random_state=1,\n",
        "                            learning_rate=1,\n",
        "                            n_estimators=200)\n",
        "gb_best=GradientBoostingClassifier(random_state=1,\n",
        "                                   max_depth=9,\n",
        "                                   learning_rate=0.1,\n",
        "                                   n_estimators=100)\n",
        "clf_best=[log_best,dt_best,knn_best,svc_best,rfc_best,ada_best,gb_best]\n",
        "clf_labels=[\"Logistic Regression\",\"DecisionTree\",\"KNeighbor\",\n",
        "            \"SVC\",\"RandomForest\",\"AdaBoost\",\"GradientBoost\"]"
      ],
      "metadata": {
        "id": "WFpaUvV2-8cg"
      },
      "execution_count": 3,
      "outputs": []
    },
    {
      "cell_type": "code",
      "source": [
        "#チューニング結果を基に、再びグラフをプロット\n",
        "from sklearn.model_selection import StratifiedKFold\n",
        "from scipy import interp\n",
        "cv=list(StratifiedKFold(n_splits=5).split(X_train_res,y_train_res))\n",
        "fig=plt.figure(figsize=(6,4))\n",
        "#logistic\n",
        "mean_fpr_log=np.linspace(0,1,100)\n",
        "mean_tpr_log= 0.0\n",
        "for i,(train, test) in enumerate(cv):\n",
        "  probas=log_best.fit(X_train_res[train], y_train_res[train]).predict_proba(X_train_res[test])\n",
        "  fpr_log,tpr_log,thresholds_log=roc_curve(y_train_res[test], probas[:, 1], pos_label=1)\n",
        "  mean_tpr_log+=interp(mean_fpr_log,fpr_log,tpr_log)\n",
        "  mean_tpr_log[0]=0\n",
        "  roc_auc_log=auc(fpr_log, tpr_log)\n",
        "mean_tpr_log=mean_tpr_log/len(cv)\n",
        "mean_auc_log=auc(mean_fpr_log, mean_tpr_log)\n",
        "plt.plot(mean_fpr_log, mean_tpr_log,color=\"blue\",\n",
        "         label=\"%s(auc=%0.2f)\"%(clf_labels[0],mean_auc_log))\n",
        "#decisiontree\n",
        "mean_fpr_dt=np.linspace(0,1,100)\n",
        "mean_tpr_dt=0.0\n",
        "for i,(train, test) in enumerate(cv):\n",
        "  probas=dt_best.fit(X_train_res[train],y_train_res[train]).predict_proba(X_train_res[test])\n",
        "  fpr_dt,tpr_dt,thresholds_dt=roc_curve(y_train_res[test],probas[:,1],pos_label=1)\n",
        "  mean_tpr_dt+=interp(mean_fpr_dt,fpr_dt,tpr_dt)\n",
        "  mean_tpr_dt[0]=0\n",
        "  roc_auc_dt=auc(fpr_dt,tpr_dt)\n",
        "mean_tpr_dt=mean_tpr_dt/len(cv)\n",
        "mean_auc_dt=auc(mean_fpr_dt,mean_tpr_dt)\n",
        "plt.plot(mean_fpr_dt,mean_tpr_dt,color=\"green\",label=\"%s(auc=%0.2f)\"%(clf_labels[1],mean_auc_dt))\n",
        "#kneighbor\n",
        "mean_fpr_knn=np.linspace(0,1,100)\n",
        "mean_tpr_knn=0.0\n",
        "for i,(train, test) in enumerate(cv):\n",
        "  probas=knn_best.fit(X_train_res[train],y_train_res[train]).predict_proba(X_train_res[test])\n",
        "  fpr_knn,tpr_knn,thresholds_knn=roc_curve(y_train_res[test],probas[:,1],pos_label=1)\n",
        "  mean_tpr_knn+=interp(mean_fpr_knn,fpr_knn,tpr_knn)\n",
        "  mean_tpr_knn[0]=0\n",
        "  roc_auc_knn=auc(fpr_knn, tpr_knn)\n",
        "mean_tpr_knn=mean_tpr_knn/len(cv)\n",
        "mean_auc_knn=auc(mean_fpr_knn,mean_tpr_knn)\n",
        "plt.plot(mean_fpr_knn,mean_tpr_knn,color=\"red\",\n",
        "         label=\"%s(auc=%0.2f)\"%(clf_labels[2],mean_auc_knn))\n",
        "#svc\n",
        "mean_fpr_svc=np.linspace(0,1,100)\n",
        "mean_tpr_svc=0.0\n",
        "for i,(train, test) in enumerate(cv):\n",
        "  probas=svc_best.fit(X_train_res[train],y_train_res[train]).predict_proba(X_train_res[test])\n",
        "  fpr_svc,tpr_svc,thresholds_svc=roc_curve(y_train_res[test],probas[:,1],pos_label=1)\n",
        "  mean_tpr_svc+=interp(mean_fpr_svc,fpr_svc,tpr_svc)\n",
        "  mean_tpr_svc[0]=0\n",
        "  roc_auc_svc=auc(fpr_svc,tpr_svc)\n",
        "mean_tpr_svc=mean_tpr_svc/len(cv)\n",
        "mean_auc_svc=auc(mean_fpr_svc,mean_tpr_svc)\n",
        "plt.plot(mean_fpr_svc,mean_tpr_svc,color=\"purple\",\n",
        "         label=\"%s(auc=%0.2f)\"%(clf_labels[3],mean_auc_svc))\n",
        "#randomforest\n",
        "mean_fpr_rfc=np.linspace(0,1,100)\n",
        "mean_tpr_rfc=0.0\n",
        "for i,(train, test) in enumerate(cv):\n",
        "  probas=rfc_best.fit(X_train_res[train],y_train_res[train]).predict_proba(X_train_res[test])\n",
        "  fpr_rfc,tpr_rfc,thresholds_rfc=roc_curve(y_train_res[test],probas[:,1],pos_label=1)\n",
        "  mean_tpr_rfc+=interp(mean_fpr_rfc,fpr_rfc,tpr_rfc)\n",
        "  mean_tpr_rfc[0]=0\n",
        "  roc_auc_rfc=auc(fpr_rfc,tpr_rfc)\n",
        "mean_tpr_rfc=mean_tpr_rfc/len(cv)\n",
        "mean_auc_rfc=auc(mean_fpr_rfc,mean_tpr_rfc)\n",
        "plt.plot(mean_fpr_rfc,mean_tpr_rfc,color=\"orange\",\n",
        "         label=\"%s(auc=%0.2f)\"%(clf_labels[4],mean_auc_rfc))\n",
        "#adaboost\n",
        "mean_fpr_ada=np.linspace(0,1,100)\n",
        "mean_tpr_ada=0.0\n",
        "for i,(train,test) in enumerate(cv):\n",
        "  probas=ada_best.fit(X_train_res[train],y_train_res[train]).predict_proba(X_train_res[test])\n",
        "  fpr_ada,tpr_ada,thresholds_ada=roc_curve(y_train_res[test],probas[:,1],pos_label=1)\n",
        "  mean_tpr_ada+=interp(mean_fpr_ada,fpr_ada,tpr_ada)\n",
        "  mean_tpr_ada[0]=0\n",
        "  roc_auc_ada=auc(fpr_ada,tpr_ada)\n",
        "mean_tpr_ada=mean_tpr_ada/len(cv)\n",
        "mean_auc_ada=auc(mean_fpr_ada,mean_tpr_ada)\n",
        "plt.plot(mean_fpr_ada,mean_tpr_ada,color=\"cyan\",\n",
        "         label=\"%s(auc=%0.2f)\"%(clf_labels[5],mean_auc_ada))\n",
        "#gradientboost\n",
        "mean_fpr_gb=np.linspace(0,1,100)\n",
        "mean_tpr_gb=0.0\n",
        "for i,(train, test) in enumerate(cv):\n",
        "  probas=gb_best.fit(X_train_res[train],y_train_res[train]).predict_proba(X_train_res[test])\n",
        "  fpr_gb,tpr_gb,thresholds_gb=roc_curve(y_train_res[test],probas[:,1],pos_label=1)\n",
        "  mean_tpr_gb+=interp(mean_fpr_gb,fpr_gb,tpr_gb)\n",
        "  mean_tpr_gb[0]=0\n",
        "  roc_auc_gb=auc(fpr_gb,tpr_gb)\n",
        "mean_tpr_gb=mean_tpr_gb/len(cv)\n",
        "mean_auc_gb=auc(mean_fpr_gb,mean_tpr_gb)\n",
        "plt.plot(mean_fpr_gb,mean_tpr_gb,color=\"olive\",\n",
        "         label=\"%s(auc=%0.2f)\"%(clf_labels[6],mean_auc_gb))\n",
        "# 当て推量をプロット\n",
        "plt.plot([0, 1], [0, 1],linestyle='--', color=(0.6, 0.6, 0.6), label='random guessing')\n",
        "plt.plot([0, 0, 1], [0, 1, 1], lw=2, linestyle=':', color='black', label='perfect performance')\n",
        "plt.xlim([-0.05, 1.05])\n",
        "plt.ylim([-0.05, 1.05])\n",
        "plt.xlabel('false positive rate')\n",
        "plt.ylabel('true positive rate')\n",
        "plt.title('Receiver Operator Characteristic')\n",
        "plt.legend(loc='lower right')\n",
        "plt.grid(alpha=0.5)\n",
        "plt.show()\n",
        "#AUCはわずかに上昇しています。\n",
        "#ただ、チューニング前よりスコアが下がったものもありました。"
      ],
      "metadata": {
        "id": "CqeWla4LqktJ"
      },
      "execution_count": null,
      "outputs": []
    },
    {
      "cell_type": "code",
      "source": [
        "#accuracy の平均を見てみる（チューニング後の結果）\n",
        "for clf,label in zip(clf_best,clf_labels):\n",
        "  scores=cross_val_score(estimator=clf,\n",
        "                         X=X_train_res,\n",
        "                         y=y_train_res,cv=5,\n",
        "                         scoring=\"accuracy\")\n",
        "  print(\"accuracy: %0.2f(+/- %0.2f) [%s]\" % (scores.mean(),scores.std(),label))\n",
        "#votingはAUCの値とaccuracyの値の合計が大きいもの3つをピックアップし、多数決分類器を定義することにしました。"
      ],
      "metadata": {
        "id": "SRMo_Cpc23ou",
        "colab": {
          "base_uri": "https://localhost:8080/"
        },
        "outputId": "cce99587-f223-4e04-8d16-4efc8284fcc4"
      },
      "execution_count": 6,
      "outputs": [
        {
          "output_type": "stream",
          "name": "stdout",
          "text": [
            "accuracy: 0.85(+/- 0.01) [Logistic Regression]\n"
          ]
        },
        {
          "output_type": "stream",
          "name": "stderr",
          "text": [
            "/usr/local/lib/python3.9/dist-packages/sklearn/tree/_classes.py:269: FutureWarning: `max_features='auto'` has been deprecated in 1.1 and will be removed in 1.3. To keep the past behaviour, explicitly set `max_features='sqrt'`.\n",
            "  warnings.warn(\n",
            "/usr/local/lib/python3.9/dist-packages/sklearn/tree/_classes.py:269: FutureWarning: `max_features='auto'` has been deprecated in 1.1 and will be removed in 1.3. To keep the past behaviour, explicitly set `max_features='sqrt'`.\n",
            "  warnings.warn(\n",
            "/usr/local/lib/python3.9/dist-packages/sklearn/tree/_classes.py:269: FutureWarning: `max_features='auto'` has been deprecated in 1.1 and will be removed in 1.3. To keep the past behaviour, explicitly set `max_features='sqrt'`.\n",
            "  warnings.warn(\n",
            "/usr/local/lib/python3.9/dist-packages/sklearn/tree/_classes.py:269: FutureWarning: `max_features='auto'` has been deprecated in 1.1 and will be removed in 1.3. To keep the past behaviour, explicitly set `max_features='sqrt'`.\n",
            "  warnings.warn(\n",
            "/usr/local/lib/python3.9/dist-packages/sklearn/tree/_classes.py:269: FutureWarning: `max_features='auto'` has been deprecated in 1.1 and will be removed in 1.3. To keep the past behaviour, explicitly set `max_features='sqrt'`.\n",
            "  warnings.warn(\n"
          ]
        },
        {
          "output_type": "stream",
          "name": "stdout",
          "text": [
            "accuracy: 0.90(+/- 0.04) [DecisionTree]\n",
            "accuracy: 0.95(+/- 0.00) [KNeighbor]\n",
            "accuracy: 0.91(+/- 0.01) [SVC]\n",
            "accuracy: 0.95(+/- 0.04) [RandomForest]\n"
          ]
        },
        {
          "output_type": "stream",
          "name": "stderr",
          "text": [
            "/usr/local/lib/python3.9/dist-packages/sklearn/ensemble/_base.py:166: FutureWarning: `base_estimator` was renamed to `estimator` in version 1.2 and will be removed in 1.4.\n",
            "  warnings.warn(\n",
            "/usr/local/lib/python3.9/dist-packages/sklearn/ensemble/_base.py:166: FutureWarning: `base_estimator` was renamed to `estimator` in version 1.2 and will be removed in 1.4.\n",
            "  warnings.warn(\n",
            "/usr/local/lib/python3.9/dist-packages/sklearn/ensemble/_base.py:166: FutureWarning: `base_estimator` was renamed to `estimator` in version 1.2 and will be removed in 1.4.\n",
            "  warnings.warn(\n",
            "/usr/local/lib/python3.9/dist-packages/sklearn/ensemble/_base.py:166: FutureWarning: `base_estimator` was renamed to `estimator` in version 1.2 and will be removed in 1.4.\n",
            "  warnings.warn(\n",
            "/usr/local/lib/python3.9/dist-packages/sklearn/ensemble/_base.py:166: FutureWarning: `base_estimator` was renamed to `estimator` in version 1.2 and will be removed in 1.4.\n",
            "  warnings.warn(\n"
          ]
        },
        {
          "output_type": "stream",
          "name": "stdout",
          "text": [
            "accuracy: 0.90(+/- 0.04) [AdaBoost]\n",
            "accuracy: 0.93(+/- 0.07) [GradientBoost]\n"
          ]
        }
      ]
    },
    {
      "cell_type": "code",
      "source": [
        "for clf,label in zip(clf_best,clf_labels):\n",
        "  scores=cross_val_score(estimator=clf,\n",
        "                         X=X_train_res,\n",
        "                         y=y_train_res,cv=5,\n",
        "                         scoring=\"recall\")\n",
        "  print(\"recall: %0.2f(+/- %0.2f) [%s]\" % (scores.mean(),scores.std(),label))"
      ],
      "metadata": {
        "colab": {
          "base_uri": "https://localhost:8080/"
        },
        "id": "RnjcW8-DvuRY",
        "outputId": "7a8e8a5f-48bf-4cbd-cd38-8208dec8ad23"
      },
      "execution_count": 6,
      "outputs": [
        {
          "output_type": "stream",
          "name": "stdout",
          "text": [
            "recall: 0.85(+/- 0.02) [Logistic Regression]\n"
          ]
        },
        {
          "output_type": "stream",
          "name": "stderr",
          "text": [
            "/usr/local/lib/python3.9/dist-packages/sklearn/tree/_classes.py:269: FutureWarning: `max_features='auto'` has been deprecated in 1.1 and will be removed in 1.3. To keep the past behaviour, explicitly set `max_features='sqrt'`.\n",
            "  warnings.warn(\n",
            "/usr/local/lib/python3.9/dist-packages/sklearn/tree/_classes.py:269: FutureWarning: `max_features='auto'` has been deprecated in 1.1 and will be removed in 1.3. To keep the past behaviour, explicitly set `max_features='sqrt'`.\n",
            "  warnings.warn(\n",
            "/usr/local/lib/python3.9/dist-packages/sklearn/tree/_classes.py:269: FutureWarning: `max_features='auto'` has been deprecated in 1.1 and will be removed in 1.3. To keep the past behaviour, explicitly set `max_features='sqrt'`.\n",
            "  warnings.warn(\n",
            "/usr/local/lib/python3.9/dist-packages/sklearn/tree/_classes.py:269: FutureWarning: `max_features='auto'` has been deprecated in 1.1 and will be removed in 1.3. To keep the past behaviour, explicitly set `max_features='sqrt'`.\n",
            "  warnings.warn(\n",
            "/usr/local/lib/python3.9/dist-packages/sklearn/tree/_classes.py:269: FutureWarning: `max_features='auto'` has been deprecated in 1.1 and will be removed in 1.3. To keep the past behaviour, explicitly set `max_features='sqrt'`.\n",
            "  warnings.warn(\n"
          ]
        },
        {
          "output_type": "stream",
          "name": "stdout",
          "text": [
            "recall: 0.90(+/- 0.10) [DecisionTree]\n",
            "recall: 0.99(+/- 0.00) [KNeighbor]\n",
            "recall: 0.95(+/- 0.02) [SVC]\n",
            "recall: 0.96(+/- 0.08) [RandomForest]\n"
          ]
        },
        {
          "output_type": "stream",
          "name": "stderr",
          "text": [
            "/usr/local/lib/python3.9/dist-packages/sklearn/ensemble/_base.py:166: FutureWarning: `base_estimator` was renamed to `estimator` in version 1.2 and will be removed in 1.4.\n",
            "  warnings.warn(\n",
            "/usr/local/lib/python3.9/dist-packages/sklearn/ensemble/_base.py:166: FutureWarning: `base_estimator` was renamed to `estimator` in version 1.2 and will be removed in 1.4.\n",
            "  warnings.warn(\n",
            "/usr/local/lib/python3.9/dist-packages/sklearn/ensemble/_base.py:166: FutureWarning: `base_estimator` was renamed to `estimator` in version 1.2 and will be removed in 1.4.\n",
            "  warnings.warn(\n",
            "/usr/local/lib/python3.9/dist-packages/sklearn/ensemble/_base.py:166: FutureWarning: `base_estimator` was renamed to `estimator` in version 1.2 and will be removed in 1.4.\n",
            "  warnings.warn(\n",
            "/usr/local/lib/python3.9/dist-packages/sklearn/ensemble/_base.py:166: FutureWarning: `base_estimator` was renamed to `estimator` in version 1.2 and will be removed in 1.4.\n",
            "  warnings.warn(\n"
          ]
        },
        {
          "output_type": "stream",
          "name": "stdout",
          "text": [
            "recall: 0.91(+/- 0.10) [AdaBoost]\n",
            "recall: 0.91(+/- 0.16) [GradientBoost]\n"
          ]
        }
      ]
    },
    {
      "cell_type": "code",
      "source": [
        "#多数決分類器の定義\n",
        "from sklearn.ensemble import VotingClassifier\n",
        "estimator = [('knn',knn_best),\n",
        "             ('rfc',rfc_best),\n",
        "             ('gb', gb_best)]\n",
        "vt=VotingClassifier(estimators=estimator, voting='soft')"
      ],
      "metadata": {
        "id": "6Dd_GNwa9XW1"
      },
      "execution_count": 4,
      "outputs": []
    },
    {
      "cell_type": "code",
      "source": [
        "#majorityvoting,randomforest,knn,gradientboostのROC曲線をプロット\n",
        "#\n",
        "from sklearn.model_selection import StratifiedKFold\n",
        "from scipy import interp\n",
        "clf_labels=[\"KNeighbor\",\"RandomForest\",\"GradientBoost\",\"MajorityVoting\"]\n",
        "cv=list(StratifiedKFold(n_splits=5).split(X_train_res,y_train_res))\n",
        "fig = plt.figure(figsize=(7,5))\n",
        "#kneighbor\n",
        "mean_fpr_knn=np.linspace(0,1,100)\n",
        "mean_tpr_knn=0.0\n",
        "for i,(train,test) in enumerate(cv):\n",
        "  probas=knn_best.fit(X_train_res[train],y_train_res[train]).predict_proba(X_train_res[test])\n",
        "  fpr_knn,tpr_knn,thresholds_knn=roc_curve(y_train_res[test],probas[:,1],pos_label=1)\n",
        "  mean_tpr_knn+=interp(mean_fpr_knn,fpr_knn,tpr_knn)\n",
        "  mean_tpr_knn[0]=0\n",
        "  roc_auc_knn=auc(fpr_knn, tpr_knn)\n",
        "mean_tpr_knn=mean_tpr_knn/len(cv)\n",
        "mean_auc_knn=auc(mean_fpr_knn,mean_tpr_knn)\n",
        "plt.plot(mean_fpr_knn,mean_tpr_knn,color=\"red\",\n",
        "         label=\"%s(auc=%0.2f)\"%(clf_labels[0],mean_auc_knn))\n",
        "#randomforest\n",
        "mean_fpr_rfc=np.linspace(0,1,100)\n",
        "mean_tpr_rfc=0.0\n",
        "for i,(train, test) in enumerate(cv):\n",
        "  probas=rfc_best.fit(X_train_res[train],y_train_res[train]).predict_proba(X_train_res[test])\n",
        "  fpr_rfc,tpr_rfc,thresholds_rfc=roc_curve(y_train_res[test],probas[:,1],pos_label=1)\n",
        "  mean_tpr_rfc+=interp(mean_fpr_rfc,fpr_rfc,tpr_rfc)\n",
        "  mean_tpr_rfc[0]=0\n",
        "  roc_auc_rfc=auc(fpr_rfc,tpr_rfc)\n",
        "mean_tpr_rfc=mean_tpr_rfc/len(cv)\n",
        "mean_auc_rfc=auc(mean_fpr_rfc,mean_tpr_rfc)\n",
        "plt.plot(mean_fpr_rfc,mean_tpr_rfc,color=\"orange\",\n",
        "         label=\"%s(auc=%0.2f)\"%(clf_labels[1],mean_auc_rfc))\n",
        "#gradientboost\n",
        "mean_fpr_gb=np.linspace(0,1,100)\n",
        "mean_tpr_gb=0.0\n",
        "for i,(train,test) in enumerate(cv):\n",
        "  probas=gb_best.fit(X_train_res[train],y_train_res[train]).predict_proba(X_train_res[test])\n",
        "  fpr_gb,tpr_gb,thresholds_gb=roc_curve(y_train_res[test],probas[:,1],pos_label=1)\n",
        "  mean_tpr_gb+=interp(mean_fpr_gb,fpr_gb,tpr_gb)\n",
        "  mean_tpr_gb[0]=0\n",
        "  roc_auc_gb=auc(fpr_gb,tpr_gb)\n",
        "mean_tpr_gb=mean_tpr_gb/len(cv)\n",
        "mean_auc_gb=auc(mean_fpr_gb,mean_tpr_gb)\n",
        "plt.plot(mean_fpr_gb,mean_tpr_gb,color=\"olive\",\n",
        "         label=\"%s(auc=%0.2f)\"%(clf_labels[2],mean_auc_gb))\n",
        "#majorityvoting\n",
        "mean_fpr_vt=np.linspace(0,1,100)\n",
        "mean_tpr_vt=0.0\n",
        "for i,(train,test) in enumerate(cv):\n",
        "  probas=vt.fit(X_train_res[train],y_train_res[train]).predict_proba(X_train_res[test])\n",
        "  fpr_vt,tpr_vt,thresholds_vt=roc_curve(y_train_res[test],probas[:,1],pos_label=1)\n",
        "  mean_tpr_vt+=interp(mean_fpr_vt,fpr_vt,tpr_vt)\n",
        "  mean_tpr_vt[0]=0\n",
        "  roc_auc_vt=auc(fpr_vt,tpr_vt)\n",
        "mean_tpr_vt=mean_tpr_vt/len(cv)\n",
        "mean_auc_vt=auc(mean_fpr_vt,mean_tpr_vt)\n",
        "plt.plot(mean_fpr_vt,mean_tpr_vt,color=\"steelblue\",\n",
        "         label=\"%s(auc=%0.2f)\"%(clf_labels[3],mean_auc_vt))\n",
        "plt.plot([0, 1], [0, 1],linestyle='--', color=(0.6, 0.6, 0.6), label='random guessing')\n",
        "plt.plot([0, 0, 1], [0, 1, 1], lw=2, linestyle=':', color='black', label='perfect performance')\n",
        "plt.xlim([-0.05, 1.05])\n",
        "plt.ylim([-0.05, 1.05])\n",
        "plt.xlabel('false positive rate')\n",
        "plt.ylabel('true positive rate')\n",
        "plt.title('Receiver Operator Characteristic')\n",
        "plt.legend(loc='lower right')\n",
        "plt.grid(alpha=0.5)\n",
        "plt.show()"
      ],
      "metadata": {
        "colab": {
          "base_uri": "https://localhost:8080/",
          "height": 1000
        },
        "id": "Ldg-0V_q_Zds",
        "outputId": "4655be1a-a771-4117-da25-88974e40b6cb"
      },
      "execution_count": 5,
      "outputs": [
        {
          "output_type": "stream",
          "name": "stderr",
          "text": [
            "<ipython-input-5-c863a3ee6f88>:14: DeprecationWarning: scipy.interp is deprecated and will be removed in SciPy 2.0.0, use numpy.interp instead\n",
            "  mean_tpr_knn+=interp(mean_fpr_knn,fpr_knn,tpr_knn)\n",
            "<ipython-input-5-c863a3ee6f88>:14: DeprecationWarning: scipy.interp is deprecated and will be removed in SciPy 2.0.0, use numpy.interp instead\n",
            "  mean_tpr_knn+=interp(mean_fpr_knn,fpr_knn,tpr_knn)\n",
            "<ipython-input-5-c863a3ee6f88>:14: DeprecationWarning: scipy.interp is deprecated and will be removed in SciPy 2.0.0, use numpy.interp instead\n",
            "  mean_tpr_knn+=interp(mean_fpr_knn,fpr_knn,tpr_knn)\n",
            "<ipython-input-5-c863a3ee6f88>:14: DeprecationWarning: scipy.interp is deprecated and will be removed in SciPy 2.0.0, use numpy.interp instead\n",
            "  mean_tpr_knn+=interp(mean_fpr_knn,fpr_knn,tpr_knn)\n",
            "<ipython-input-5-c863a3ee6f88>:14: DeprecationWarning: scipy.interp is deprecated and will be removed in SciPy 2.0.0, use numpy.interp instead\n",
            "  mean_tpr_knn+=interp(mean_fpr_knn,fpr_knn,tpr_knn)\n",
            "<ipython-input-5-c863a3ee6f88>:27: DeprecationWarning: scipy.interp is deprecated and will be removed in SciPy 2.0.0, use numpy.interp instead\n",
            "  mean_tpr_rfc+=interp(mean_fpr_rfc,fpr_rfc,tpr_rfc)\n",
            "<ipython-input-5-c863a3ee6f88>:27: DeprecationWarning: scipy.interp is deprecated and will be removed in SciPy 2.0.0, use numpy.interp instead\n",
            "  mean_tpr_rfc+=interp(mean_fpr_rfc,fpr_rfc,tpr_rfc)\n",
            "<ipython-input-5-c863a3ee6f88>:27: DeprecationWarning: scipy.interp is deprecated and will be removed in SciPy 2.0.0, use numpy.interp instead\n",
            "  mean_tpr_rfc+=interp(mean_fpr_rfc,fpr_rfc,tpr_rfc)\n",
            "<ipython-input-5-c863a3ee6f88>:27: DeprecationWarning: scipy.interp is deprecated and will be removed in SciPy 2.0.0, use numpy.interp instead\n",
            "  mean_tpr_rfc+=interp(mean_fpr_rfc,fpr_rfc,tpr_rfc)\n",
            "<ipython-input-5-c863a3ee6f88>:27: DeprecationWarning: scipy.interp is deprecated and will be removed in SciPy 2.0.0, use numpy.interp instead\n",
            "  mean_tpr_rfc+=interp(mean_fpr_rfc,fpr_rfc,tpr_rfc)\n",
            "<ipython-input-5-c863a3ee6f88>:40: DeprecationWarning: scipy.interp is deprecated and will be removed in SciPy 2.0.0, use numpy.interp instead\n",
            "  mean_tpr_gb+=interp(mean_fpr_gb,fpr_gb,tpr_gb)\n",
            "<ipython-input-5-c863a3ee6f88>:40: DeprecationWarning: scipy.interp is deprecated and will be removed in SciPy 2.0.0, use numpy.interp instead\n",
            "  mean_tpr_gb+=interp(mean_fpr_gb,fpr_gb,tpr_gb)\n",
            "<ipython-input-5-c863a3ee6f88>:40: DeprecationWarning: scipy.interp is deprecated and will be removed in SciPy 2.0.0, use numpy.interp instead\n",
            "  mean_tpr_gb+=interp(mean_fpr_gb,fpr_gb,tpr_gb)\n",
            "<ipython-input-5-c863a3ee6f88>:40: DeprecationWarning: scipy.interp is deprecated and will be removed in SciPy 2.0.0, use numpy.interp instead\n",
            "  mean_tpr_gb+=interp(mean_fpr_gb,fpr_gb,tpr_gb)\n",
            "<ipython-input-5-c863a3ee6f88>:40: DeprecationWarning: scipy.interp is deprecated and will be removed in SciPy 2.0.0, use numpy.interp instead\n",
            "  mean_tpr_gb+=interp(mean_fpr_gb,fpr_gb,tpr_gb)\n",
            "<ipython-input-5-c863a3ee6f88>:53: DeprecationWarning: scipy.interp is deprecated and will be removed in SciPy 2.0.0, use numpy.interp instead\n",
            "  mean_tpr_vt+=interp(mean_fpr_vt,fpr_vt,tpr_vt)\n",
            "<ipython-input-5-c863a3ee6f88>:53: DeprecationWarning: scipy.interp is deprecated and will be removed in SciPy 2.0.0, use numpy.interp instead\n",
            "  mean_tpr_vt+=interp(mean_fpr_vt,fpr_vt,tpr_vt)\n",
            "<ipython-input-5-c863a3ee6f88>:53: DeprecationWarning: scipy.interp is deprecated and will be removed in SciPy 2.0.0, use numpy.interp instead\n",
            "  mean_tpr_vt+=interp(mean_fpr_vt,fpr_vt,tpr_vt)\n",
            "<ipython-input-5-c863a3ee6f88>:53: DeprecationWarning: scipy.interp is deprecated and will be removed in SciPy 2.0.0, use numpy.interp instead\n",
            "  mean_tpr_vt+=interp(mean_fpr_vt,fpr_vt,tpr_vt)\n",
            "<ipython-input-5-c863a3ee6f88>:53: DeprecationWarning: scipy.interp is deprecated and will be removed in SciPy 2.0.0, use numpy.interp instead\n",
            "  mean_tpr_vt+=interp(mean_fpr_vt,fpr_vt,tpr_vt)\n"
          ]
        },
        {
          "output_type": "display_data",
          "data": {
            "text/plain": [
              "<Figure size 504x360 with 1 Axes>"
            ],
            "image/png": "[encoded data removed]"
          },
          "metadata": {
            "needs_background": "light"
          }
        }
      ]
    },
    {
      "cell_type": "code",
      "source": [
        "clf_labels=[\"KNeighbor\",\"RandomForest\",\"GradientBoost\",\"MajorityVoting\"]\n",
        "for clf,label in zip(clf_best,clf_labels):\n",
        "  scores=cross_val_score(estimator=clf,\n",
        "                         X=X_train_res,\n",
        "                         y=y_train_res,cv=5,\n",
        "                         scoring=\"accuracy\")\n",
        "  print(\"accuracy: %0.2f(+/- %0.2f) [%s]\" % (scores.mean(),scores.std(),label))"
      ],
      "metadata": {
        "colab": {
          "base_uri": "https://localhost:8080/"
        },
        "id": "PQUYUbW7C1rO",
        "outputId": "e36e513d-255f-4df8-a970-c6a7c1ba9f70"
      },
      "execution_count": null,
      "outputs": [
        {
          "output_type": "stream",
          "name": "stdout",
          "text": [
            "accuracy: 0.85(+/- 0.01) [KNeighbor]\n",
            "accuracy: 0.90(+/- 0.04) [RandomForest]\n",
            "accuracy: 0.95(+/- 0.00) [GradientBoost]\n",
            "accuracy: 0.91(+/- 0.01) [MajorityVoting]\n"
          ]
        }
      ]
    }
  ]
}