{
  "nbformat": 4,
  "nbformat_minor": 0,
  "metadata": {
    "colab": {
      "provenance": []
    },
    "kernelspec": {
      "name": "python3",
      "display_name": "Python 3"
    },
    "language_info": {
      "name": "python"
    }
  },
  "cells": [
    {
      "cell_type": "markdown",
      "source": [
        "特徴量抽出を行ったデータセットで、分類器を最適化させるためのハイパーパラメータチューニングを行っている。\n",
        "以下にコード概要を示す\n",
        "\n",
        "1. データ前処理、オーバーサンプリング\n",
        "2. ライブラリのインポート\n",
        "3. 分類器の定義\n",
        "4. LogisticRegressionのグリッドサーチ\n",
        "5. DecisionTreeのグリッドサーチ\n",
        "6. KNeighborのグリッドサーチ\n",
        "7. SVCのグリッドサーチ\n",
        "8. RandomForestのグリッドサーチ\n",
        "9. AdaBoostのグリッドサーチ\n",
        "10. GradientBoostのグリッドサーチ\n",
        "\n",
        "結論：時間がかかりすぎて諦めかけていたグリッドサーチも、特徴量選択によってＳＶＣの分類器に対しても実行できるようになった。"
      ],
      "metadata": {
        "id": "Z2mcqllp6taP"
      }
    },
    {
      "cell_type": "code",
      "execution_count": 1,
      "metadata": {
        "id": "NdhOMrPPTWSI"
      },
      "outputs": [],
      "source": [
        "import pandas as pd\n",
        "import numpy as np\n",
        "import matplotlib.pyplot as plt\n",
        "from sklearn.model_selection import train_test_split\n",
        "from sklearn.preprocessing import StandardScaler\n",
        "df=pd.read_csv(\"train.csv\")\n",
        "df_dummy=pd.get_dummies(df[[\"job\",\"marital\",\"education\",\n",
        "                            \"default\",\"housing\",\"loan\",\n",
        "                            \"contact\",\"month\",\"poutcome\",\"subscribed\",\n",
        "                            \"age\",\"balance\",\"day\",\"previous\",\n",
        "                            \"duration\",\"campaign\",\"pdays\"]],drop_first=True)\n",
        "df_6=pd.DataFrame()\n",
        "df_6[\"duration\"]=df_dummy[\"duration\"]\n",
        "df_6[\"housing_yes\"]=df_dummy[\"housing_yes\"]\n",
        "df_6[\"campaign\"]=df_dummy[\"campaign\"]\n",
        "df_6[\"day\"]=df_dummy[\"day\"]\n",
        "df_6[\"age\"]=df_dummy[\"age\"]\n",
        "df_6[\"balance\"]=df_dummy[\"balance\"]\n",
        "df_6[\"subscribed_yes\"]=df_dummy[\"subscribed_yes\"]\n",
        "\n",
        "X,y=df_6.iloc[:,0:6],df_6.iloc[:,6].values\n",
        "X_train,X_test,y_train,y_test=train_test_split(X,y,test_size=0.3,random_state=1,stratify=y)\n",
        "sc=StandardScaler()\n",
        "X_train=sc.fit_transform(X_train)\n",
        "X_test=sc.fit_transform(X_test)\n",
        "\n",
        "from imblearn import FunctionSampler\n",
        "from imblearn.over_sampling import SMOTE\n",
        "from sklearn.datasets import make_classification\n",
        "sm = SMOTE(random_state=2)\n",
        "X_train_res, y_train_res = sm.fit_resample(X_train, y_train.ravel())"
      ]
    },
    {
      "cell_type": "code",
      "source": [
        "from sklearn.linear_model import LogisticRegression\n",
        "from sklearn.tree import DecisionTreeClassifier\n",
        "from sklearn.neighbors import KNeighborsClassifier\n",
        "from sklearn.svm import SVC\n",
        "from sklearn.ensemble import RandomForestClassifier\n",
        "from sklearn.ensemble import AdaBoostClassifier\n",
        "from sklearn.ensemble import GradientBoostingClassifier\n",
        "from sklearn.model_selection import cross_val_score\n",
        "from sklearn.metrics import precision_recall_curve,roc_auc_score,roc_curve,auc\n",
        "from sklearn.metrics import recall_score, classification_report,confusion_matrix\n",
        "from sklearn.model_selection import GridSearchCV"
      ],
      "metadata": {
        "id": "OtqnpjVoT042"
      },
      "execution_count": 2,
      "outputs": []
    },
    {
      "cell_type": "code",
      "source": [
        "#分類器の設定\n",
        "log=LogisticRegression(random_state=1)\n",
        "dt=DecisionTreeClassifier(random_state=1)\n",
        "knn=KNeighborsClassifier()\n",
        "svc=SVC(probability=True)\n",
        "rfc=RandomForestClassifier(random_state=1)\n",
        "ada=AdaBoostClassifier(base_estimator=dt,random_state=1)\n",
        "gb=GradientBoostingClassifier(random_state=1)"
      ],
      "metadata": {
        "id": "RVtNYGa7UL6j"
      },
      "execution_count": 3,
      "outputs": []
    },
    {
      "cell_type": "code",
      "source": [
        "#logisticregressionのグリッドサーチ\n",
        "log_param={\"C\":[0.001,0.01,0.1,1,10,100,1000], \n",
        "       \"penalty\":[\"l1\",\"l2\"],\n",
        "       'solver' : ['lbfgs', 'liblinear']}\n",
        "log_cv=GridSearchCV(estimator=log,param_grid=log_param,cv=5,scoring=\"accuracy\")\n",
        "log_cv.fit(X_train_res,y_train_res)\n",
        "print(\"tuned hpyerparameters :(best parameters) \",log_cv.best_params_)\n",
        "print(\"accuracy :\",log_cv.best_score_)\n",
        "#tuned hpyerparameters :(best parameters)  {'C': 0.001, 'penalty': 'l2', 'solver': 'liblinear'}\n",
        "#accuracy : 0.8024755829851495"
      ],
      "metadata": {
        "id": "KMsIGZRWT_tD"
      },
      "execution_count": null,
      "outputs": []
    },
    {
      "cell_type": "code",
      "source": [
        "#決定木のチューニング\n",
        "dt_param={'max_features': ['auto','sqrt','log2'],\n",
        "              'max_depth' : [3,5,9,None],\n",
        "              'criterion' :['gini','entropy',\"log_loss\"]}\n",
        "dt_cv=GridSearchCV(estimator=dt,param_grid=dt_param,\n",
        "                           cv=5,scoring=\"accuracy\",verbose=True)\n",
        "dt_cv.fit(X_train_res, y_train_res)\n",
        "print(\"tuned hpyerparameters :(best parameters) \",dt_cv.best_params_)\n",
        "print(\"accuracy :\",dt_cv.best_score_)\n",
        "#tuned hpyerparameters :(best parameters)  {'criterion': 'entropy', 'max_depth': None, 'max_features': 'auto'}\n",
        "#accuracy : 0.873491632306097"
      ],
      "metadata": {
        "id": "M4hvM3zmZIz8"
      },
      "execution_count": null,
      "outputs": []
    },
    {
      "cell_type": "code",
      "source": [
        "#knn グリッドサーチ\n",
        "knn_param={\"n_neighbors\":list(range(1,11)),\n",
        "           \"weights\":[\"uniform\",\"distance\"]}\n",
        "knn_cv=GridSearchCV(estimator=knn,param_grid=knn_param,\n",
        "                    cv=5,scoring=\"accuracy\",verbose=True)\n",
        "knn_cv.fit(X_train_res, y_train_res)\n",
        "print(\"tuned hpyerparameters :(best parameters) \",knn_cv.best_params_)\n",
        "print(\"accuracy :\",knn_cv.best_score_)\n",
        "#tuned hpyerparameters :(best parameters)  {'n_neighbors': 2, 'weights': 'uniform'}\n",
        "#accuracy : 0.9180901376744558"
      ],
      "metadata": {
        "colab": {
          "base_uri": "https://localhost:8080/"
        },
        "id": "6NW3SBnPZ1Ou",
        "outputId": "f70e90d6-79cd-4eb8-a3fa-344ba6354f10"
      },
      "execution_count": 6,
      "outputs": [
        {
          "output_type": "stream",
          "name": "stdout",
          "text": [
            "Fitting 5 folds for each of 20 candidates, totalling 100 fits\n",
            "tuned hpyerparameters :(best parameters)  {'n_neighbors': 2, 'weights': 'uniform'}\n",
            "accuracy : 0.9180901376744558\n"
          ]
        }
      ]
    },
    {
      "cell_type": "code",
      "source": [
        "#SVCでグリッドサーチ\n",
        "svc_param={\"C\":[0.01,1,100]}\n",
        "svc_cv=GridSearchCV(estimator=svc,param_grid=svc_param,\n",
        "                    cv=5,scoring=\"accuracy\",verbose=True)\n",
        "svc_cv.fit(X_train_res, y_train_res)\n",
        "print(\"tuned hpyerparameters :(best parameters) \",svc_cv.best_params_)\n",
        "print(\"accuracy :\",svc_cv.best_score_)\n",
        "#tuned hpyerparameters :(best parameters)  {'C': 100}\n",
        "#accuracy : 0.820197628458498"
      ],
      "metadata": {
        "colab": {
          "base_uri": "https://localhost:8080/"
        },
        "id": "7sHcxtzKahxC",
        "outputId": "381b3a92-d97c-407b-86b3-6ce2d24f2975"
      },
      "execution_count": null,
      "outputs": [
        {
          "output_type": "stream",
          "name": "stdout",
          "text": [
            "Fitting 5 folds for each of 3 candidates, totalling 15 fits\n",
            "tuned hpyerparameters :(best parameters)  {'C': 100}\n",
            "accuracy : 0.820197628458498\n"
          ]
        }
      ]
    },
    {
      "cell_type": "code",
      "source": [
        "#randomforestでグリッドサーチ\n",
        "rfc_param={'max_features':['auto','sqrt','log2'],\n",
        "           'max_depth' : [3,5,9,None],\n",
        "           'criterion' :['gini','entropy',\"log_loss\"],\n",
        "           \"n_estimators\":[50,100,200]}\n",
        "rfc_cv=GridSearchCV(estimator=rfc,param_grid=rfc_param,\n",
        "                           cv=5,scoring=\"accuracy\",verbose=True)\n",
        "rfc_cv.fit(X_train_res, y_train_res)\n",
        "print(\"tuned hpyerparameters :(best parameters) \",rfc_cv.best_params_)\n",
        "print(\"accuracy :\",rfc_cv.best_score_)"
      ],
      "metadata": {
        "id": "euRPiX9X5LKG"
      },
      "execution_count": null,
      "outputs": []
    },
    {
      "cell_type": "code",
      "source": [
        "#adaboost gridsearch\n",
        "ada_dt=DecisionTreeClassifier(criterion=\"entropy\",max_depth=None,max_features=\"auto\")\n",
        "ada_grid=AdaBoostClassifier(random_state=1,base_estimator=ada_dt)\n",
        "ada_param={\"n_estimators\":[50,100,200],\n",
        "           \"learning_rate\":[0.01,0.1,1]}\n",
        "ada_cv=GridSearchCV(estimator=ada_grid,param_grid=ada_param,\n",
        "                           cv=5,scoring=\"accuracy\",verbose=True)\n",
        "ada_cv.fit(X_train_res, y_train_res)\n",
        "print(\"tuned hpyerparameters :(best parameters) \",ada_cv.best_params_)\n",
        "print(\"accuracy :\",ada_cv.best_score_)\n",
        "#tuned hpyerparameters :(best parameters)  {'learning_rate': 0.01, 'n_estimators': 50}\n",
        "#accuracy : 0.8733381371093826"
      ],
      "metadata": {
        "id": "23JToX595ZcU"
      },
      "execution_count": null,
      "outputs": []
    },
    {
      "cell_type": "code",
      "source": [
        "#gradientboost gridsearch\n",
        "gb_param={\"n_estimators\":[100,200,500],\n",
        "           \"max_depth\":[3,5,9,None],\n",
        "           \"learning_rate\":[0.01,0.1,1]}\n",
        "gb_cv=GridSearchCV(estimator=gb,param_grid=gb_param,\n",
        "                           cv=5,scoring=\"accuracy\",verbose=True,n_jobs=-1)\n",
        "gb_cv.fit(X_train_res, y_train_res)\n",
        "print(\"tuned hpyerparameters :(best parameters) \",gb_cv.best_params_)\n",
        "print(\"accuracy :\",gb_cv.best_score_)"
      ],
      "metadata": {
        "id": "ZowE2Ylf5fGH"
      },
      "execution_count": null,
      "outputs": []
    }
  ]
}