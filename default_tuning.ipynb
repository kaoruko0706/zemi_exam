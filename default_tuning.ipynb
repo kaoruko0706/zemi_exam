{
  "nbformat": 4,
  "nbformat_minor": 0,
  "metadata": {
    "colab": {
      "provenance": []
    },
    "kernelspec": {
      "name": "python3",
      "display_name": "Python 3"
    },
    "language_info": {
      "name": "python"
    }
  },
  "cells": [
    {
      "cell_type": "markdown",
      "source": [
        "ここではオーバーサンプリング、K分割交差検証をおこなわない状態/行った状態でのモデルの精度を比較しています。以下掲載コードの内容\n",
        "1. データ前処理\n",
        "2. 必要ライブラリのインポート\n",
        "3. 分類器の定義\n",
        "4. オーバーサンプリング、K分割交差検証がない場合の各分類器のROC曲線\n",
        "5. 各分類器の正解率のスコア\n",
        "6. 各分類器の再現率のスコア\n",
        "7. 各分類器のAUCのスコア\n",
        "8. K分割交差検証だけ行った状態での正解率\n",
        "9. 各分類器の再現率のスコア\n",
        "10. 各分類器のROC曲線とAUCのスコア\n",
        "\n",
        "結論：オーバーサンプリングが無い状態では、2クラスの分布が偏っているので正解率とAUCが指標として機能しない。\n",
        "2クラスは非預金者：88％、預金者：12％の偏りなのでなにもしなくても、正解率がそれに比例して88～90％になる。\n",
        "一方で再現率は下がってしまうので、これをなんとかするためにサンプリングを行った。\n",
        "\n"
      ],
      "metadata": {
        "id": "QK2q59Pdyx0N"
      }
    },
    {
      "cell_type": "code",
      "source": [
        "#オーバサンプリングせずに実践\n",
        "import pandas as pd\n",
        "import numpy as np\n",
        "import matplotlib.pyplot as plt\n",
        "from sklearn.model_selection import train_test_split\n",
        "from sklearn.preprocessing import StandardScaler\n",
        "df=pd.read_csv(\"train.csv\")\n",
        "df_dummy=pd.get_dummies(df[[\"job\",\"marital\",\"education\",\n",
        "                            \"default\",\"housing\",\"loan\",\n",
        "                            \"contact\",\"month\",\"poutcome\",\"subscribed\",\n",
        "                            \"age\",\"balance\",\"day\",\"previous\",\n",
        "                            \"duration\",\"campaign\",\"pdays\"]],drop_first=True)\n",
        "X,y=df_dummy.iloc[:,0:42],df_dummy.iloc[:,42].values\n",
        "X_train,X_test,y_train,y_test=train_test_split(X,y,test_size=0.3,random_state=1,stratify=y)\n",
        "sc=StandardScaler()\n",
        "X_train=sc.fit_transform(X_train)\n",
        "X_test=sc.fit_transform(X_test)"
      ],
      "metadata": {
        "id": "XecDeo0Gur80"
      },
      "execution_count": 1,
      "outputs": []
    },
    {
      "cell_type": "code",
      "source": [
        "#必要な機械学習のライブラリをインポート\n",
        "from sklearn.linear_model import LogisticRegression\n",
        "from sklearn.tree import DecisionTreeClassifier\n",
        "from sklearn.neighbors import KNeighborsClassifier\n",
        "from sklearn.svm import SVC\n",
        "from sklearn.ensemble import RandomForestClassifier\n",
        "from sklearn.ensemble import AdaBoostClassifier\n",
        "from sklearn.ensemble import GradientBoostingClassifier\n",
        "from sklearn.model_selection import cross_val_score\n",
        "from sklearn.metrics import precision_recall_curve,roc_auc_score,roc_curve,auc\n",
        "from sklearn.metrics import recall_score\n",
        "from sklearn.metrics import accuracy_score\n",
        "from sklearn.metrics import roc_auc_score"
      ],
      "metadata": {
        "id": "INbAB7g9us9C"
      },
      "execution_count": 5,
      "outputs": []
    },
    {
      "cell_type": "code",
      "source": [
        "#分類器の定義（チューニング前）\n",
        "log=LogisticRegression(random_state=1)\n",
        "dt=DecisionTreeClassifier(random_state=1)\n",
        "knn=KNeighborsClassifier()\n",
        "svc=SVC(probability=True)\n",
        "rfc=RandomForestClassifier(random_state=1)\n",
        "ada=AdaBoostClassifier(base_estimator=dt,random_state=1)\n",
        "gb=GradientBoostingClassifier(random_state=1)\n",
        "all_clf=[log,dt,knn,svc,rfc,ada,gb]\n",
        "clf_labels=[\"Logistic Regression\",\"DecisionTree\",\"KNeighbor\",\n",
        "            \"SVC\",\"RandomForest\",\"AdaBoost\",\"GradientBoost\"]"
      ],
      "metadata": {
        "id": "JcewgFbsva-c"
      },
      "execution_count": 3,
      "outputs": []
    },
    {
      "cell_type": "code",
      "source": [
        "#サンプリングなし、分割検証なしの場合のROC曲線\n",
        "fig=plt.figure(figsize=(7,5))\n",
        "colors=[\"blue\",\"green\",\"red\",\"purple\",\"orange\",\"cyan\",\"olive\"]\n",
        "for clf,label,clr in zip(all_clf,clf_labels,colors):\n",
        "  y_pred=clf.fit(X_train,y_train).predict_proba(X_test)[:,1]\n",
        "  fpr,tpr,thresholds=roc_curve(y_true=y_test,y_score=y_pred)\n",
        "  roc_auc=auc(x=fpr,y=tpr)\n",
        "  plt.plot(fpr,tpr,color=clr,label=\"%s(auc=%0.2f)\"%(label,roc_auc))\n",
        "plt.legend(loc=\"lower right\")\n",
        "plt.plot([0,0,1],[0,1,1],\n",
        "         linestyle=\":\",color=\"black\",label=\"Perfect Perfomance\")\n",
        "plt.plot([0,1],[0,1],linestyle=\"--\",color=\"gray\",linewidth=2,label=\"Random Guessing\")\n",
        "plt.xlim([-0.1,1.1])\n",
        "plt.ylim([-0.1,1.1])\n",
        "plt.grid(alpha=0.5)\n",
        "plt.xlabel(\"FPR\")\n",
        "plt.ylabel(\"TPR\")\n",
        "plt.show"
      ],
      "metadata": {
        "id": "m9RcL4rxvo5-"
      },
      "execution_count": null,
      "outputs": []
    },
    {
      "cell_type": "code",
      "source": [
        "#正解率のスコア\n",
        "from sklearn.metrics import accuracy_score\n",
        "for clf,label in zip(all_clf,clf_labels):\n",
        "  clf.fit(X_train,y_train)\n",
        "  y_pred=clf.predict(X_test)\n",
        "  scores=accuracy_score(y_test,y_pred)\n",
        "  print(\"accuracy: %0.2f(+/- %0.2f) [%s]\" % (scores.mean(),scores.std(),label))"
      ],
      "metadata": {
        "id": "t1U5WeY9HIj6"
      },
      "execution_count": null,
      "outputs": []
    },
    {
      "cell_type": "code",
      "source": [
        "#再現率のスコア\n",
        "from sklearn.metrics import recall_score\n",
        "for clf,label in zip(all_clf,clf_labels):\n",
        "  clf.fit(X_train,y_train)\n",
        "  y_pred=clf.predict(X_test)\n",
        "  scores=recall_score(y_test,y_pred)\n",
        "  print(\"recall: %0.2f(+/- %0.2f) [%s]\" % (scores.mean(),scores.std(),label))"
      ],
      "metadata": {
        "id": "HiG04qpQzCeY"
      },
      "execution_count": null,
      "outputs": []
    },
    {
      "cell_type": "code",
      "source": [
        "#roc_aucのスコア（AUC）\n",
        "from sklearn.metrics import roc_auc_score\n",
        "for clf,label in zip(all_clf,clf_labels):\n",
        "  clf.fit(X_train,y_train)\n",
        "  y_pred=clf.predict(X_test)\n",
        "  scores=roc_auc_score(y_test,y_pred)\n",
        "  print(\"roc_auc: %0.2f(+/- %0.2f) [%s]\" % (scores.mean(),scores.std(),label))"
      ],
      "metadata": {
        "id": "WsdwAf57dOhQ"
      },
      "execution_count": null,
      "outputs": []
    },
    {
      "cell_type": "code",
      "source": [
        "#サンプリングなし、交差検証ありの場合。正解率\n",
        "for clf,label in zip(all_clf,clf_labels):\n",
        "  scores=cross_val_score(estimator=clf,\n",
        "                         X=X_train,y=y_train,cv=5,\n",
        "                         scoring=\"accuracy\")\n",
        "  print(\"accuracy: %0.2f(+/- %0.2f) [%s]\" % (scores.mean(),scores.std(),label))\n",
        "#正解率も大きく改善しなかった。"
      ],
      "metadata": {
        "id": "kkXeLANXxj_O"
      },
      "execution_count": null,
      "outputs": []
    },
    {
      "cell_type": "code",
      "source": [
        "#サンプリングなし、交差検証ありの場合。再現率\n",
        "for clf,label in zip(all_clf,clf_labels):\n",
        "  scores=cross_val_score(estimator=clf,\n",
        "                         X=X_train,y=y_train,cv=5,\n",
        "                         scoring=\"recall\")\n",
        "  print(\"recall: %0.2f(+/- %0.2f) [%s]\" % (scores.mean(),scores.std(),label))\n",
        "#交差検証をしても再現率は改善せず……。"
      ],
      "metadata": {
        "id": "uNeXdS5dnicG"
      },
      "execution_count": null,
      "outputs": []
    },
    {
      "cell_type": "code",
      "source": [
        "#オーバーサンプリングなし、交差検証ありのROC曲線とAUCの値\n",
        "from sklearn.model_selection import StratifiedKFold\n",
        "from scipy import interp\n",
        "cv=list(StratifiedKFold(n_splits=5).split(X_train,y_train))\n",
        "fig = plt.figure(figsize=(7,5))\n",
        "#logistic\n",
        "mean_fpr_log=np.linspace(0,1,100)\n",
        "mean_tpr_log= 0.0\n",
        "for i,(train, test) in enumerate(cv):\n",
        "  probas=log.fit(X_train[train], y_train[train]).predict_proba(X_train[test])\n",
        "  fpr_log,tpr_log,thresholds_log=roc_curve(y_train[test], probas[:, 1], pos_label=1)\n",
        "  mean_tpr_log+=interp(mean_fpr_log,fpr_log,tpr_log)\n",
        "  mean_tpr_log[0]=0\n",
        "  roc_auc_log=auc(fpr_log, tpr_log)\n",
        "mean_tpr_log=mean_tpr_log/len(cv)\n",
        "mean_auc_log=auc(mean_fpr_log, mean_tpr_log)\n",
        "plt.plot(mean_fpr_log, mean_tpr_log,color=\"blue\",\n",
        "         label=\"%s(auc=%0.2f)\"%(clf_labels[0],mean_auc_log))\n",
        "#decisiontree\n",
        "mean_fpr_dt=np.linspace(0,1,100)\n",
        "mean_tpr_dt=0.0\n",
        "for i,(train, test) in enumerate(cv):\n",
        "  probas=dt.fit(X_train[train],y_train[train]).predict_proba(X_train[test])\n",
        "  fpr_dt,tpr_dt,thresholds_dt=roc_curve(y_train[test],probas[:,1],pos_label=1)\n",
        "  mean_tpr_dt+=interp(mean_fpr_dt,fpr_dt,tpr_dt)\n",
        "  mean_tpr_dt[0]=0\n",
        "  roc_auc_dt=auc(fpr_dt,tpr_dt)\n",
        "mean_tpr_dt=mean_tpr_dt/len(cv)\n",
        "mean_auc_dt=auc(mean_fpr_dt,mean_tpr_dt)\n",
        "plt.plot(mean_fpr_dt,mean_tpr_dt,color=\"green\",label=\"%s(auc=%0.2f)\"%(clf_labels[1],mean_auc_dt))\n",
        "#kneighbor\n",
        "mean_fpr_knn=np.linspace(0,1,100)\n",
        "mean_tpr_knn=0.0\n",
        "for i,(train, test) in enumerate(cv):\n",
        "  probas=knn.fit(X_train[train],y_train[train]).predict_proba(X_train[test])\n",
        "  fpr_knn,tpr_knn,thresholds_knn=roc_curve(y_train[test],probas[:,1],pos_label=1)\n",
        "  mean_tpr_knn+=interp(mean_fpr_knn,fpr_knn,tpr_knn)\n",
        "  mean_tpr_knn[0]=0\n",
        "  roc_auc_knn=auc(fpr_knn, tpr_knn)\n",
        "mean_tpr_knn=mean_tpr_knn/len(cv)\n",
        "mean_auc_knn=auc(mean_fpr_knn,mean_tpr_knn)\n",
        "plt.plot(mean_fpr_knn,mean_tpr_knn,color=\"red\",\n",
        "         label=\"%s(auc=%0.2f)\"%(clf_labels[2],mean_auc_knn))\n",
        "#SVC\n",
        "mean_fpr_svc=np.linspace(0,1,100)\n",
        "mean_tpr_svc=0.0\n",
        "for i,(train, test) in enumerate(cv):\n",
        "  probas=svc.fit(X_train[train],y_train[train]).predict_proba(X_train[test])\n",
        "  fpr_svc,tpr_svc,thresholds_svc=roc_curve(y_train[test],probas[:,1],pos_label=1)\n",
        "  mean_tpr_svc+=interp(mean_fpr_svc,fpr_svc,tpr_svc)\n",
        "  mean_tpr_svc[0]=0\n",
        "  roc_auc_svc=auc(fpr_svc,tpr_svc)\n",
        "mean_tpr_svc=mean_tpr_svc/len(cv)\n",
        "mean_auc_svc=auc(mean_fpr_svc,mean_tpr_svc)\n",
        "plt.plot(mean_fpr_svc,mean_tpr_svc,color=\"purple\",\n",
        "         label=\"%s(auc=%0.2f)\"%(clf_labels[3],mean_auc_svc))\n",
        "#randomforest\n",
        "mean_fpr_rfc=np.linspace(0,1,100)\n",
        "mean_tpr_rfc=0.0\n",
        "for i,(train, test) in enumerate(cv):\n",
        "  probas=rfc.fit(X_train[train],y_train[train]).predict_proba(X_train[test])\n",
        "  fpr_rfc,tpr_rfc,thresholds_rfc=roc_curve(y_train[test],probas[:,1],pos_label=1)\n",
        "  mean_tpr_rfc+=interp(mean_fpr_rfc,fpr_rfc,tpr_rfc)\n",
        "  mean_tpr_rfc[0]=0\n",
        "  roc_auc_rfc=auc(fpr_rfc,tpr_rfc)\n",
        "mean_tpr_rfc=mean_tpr_rfc/len(cv)\n",
        "mean_auc_rfc=auc(mean_fpr_rfc,mean_tpr_rfc)\n",
        "plt.plot(mean_fpr_rfc,mean_tpr_rfc,color=\"orange\",\n",
        "         label=\"%s(auc=%0.2f)\"%(clf_labels[4],mean_auc_rfc))\n",
        "#adaboost\n",
        "mean_fpr_ada=np.linspace(0,1,100)\n",
        "mean_tpr_ada=0.0\n",
        "for i,(train,test) in enumerate(cv):\n",
        "  probas=ada.fit(X_train[train],y_train[train]).predict_proba(X_train[test])\n",
        "  fpr_ada,tpr_ada,thresholds_ada=roc_curve(y_train[test],probas[:,1],pos_label=1)\n",
        "  mean_tpr_ada+=interp(mean_fpr_ada,fpr_ada,tpr_ada)\n",
        "  mean_tpr_ada[0]=0\n",
        "  roc_auc_ada=auc(fpr_ada,tpr_ada)\n",
        "mean_tpr_ada=mean_tpr_ada/len(cv)\n",
        "mean_auc_ada=auc(mean_fpr_ada,mean_tpr_ada)\n",
        "plt.plot(mean_fpr_ada,mean_tpr_ada,color=\"cyan\",\n",
        "         label=\"%s(auc=%0.2f)\"%(clf_labels[5],mean_auc_ada))\n",
        "#gradientboost\n",
        "mean_fpr_gb=np.linspace(0,1,100)\n",
        "mean_tpr_gb=0.0\n",
        "for i,(train, test) in enumerate(cv):\n",
        "  probas=gb.fit(X_train[train],y_train[train]).predict_proba(X_train[test])\n",
        "  fpr_gb,tpr_gb,thresholds_gb=roc_curve(y_train[test],probas[:,1],pos_label=1)\n",
        "  mean_tpr_gb+=interp(mean_fpr_gb,fpr_gb,tpr_gb)\n",
        "  mean_tpr_gb[0]=0\n",
        "  roc_auc_gb=auc(fpr_gb,tpr_gb)\n",
        "mean_tpr_gb=mean_tpr_gb/len(cv)\n",
        "mean_auc_gb=auc(mean_fpr_gb,mean_tpr_gb)\n",
        "plt.plot(mean_fpr_gb,mean_tpr_gb,color=\"olive\",\n",
        "         label=\"%s(auc=%0.2f)\"%(clf_labels[6],mean_auc_gb))\n",
        "#当て推量\n",
        "plt.plot([0, 1], [0, 1],linestyle='--', color=(0.6, 0.6, 0.6), label='random guessing')\n",
        "#予測が完全的中した場合\n",
        "plt.plot([0, 0, 1], [0, 1, 1], lw=2, linestyle=':', color='black', label='perfect performance')\n",
        "plt.xlim([-0.05, 1.05])\n",
        "plt.ylim([-0.05, 1.05])\n",
        "plt.xlabel('false positive rate')\n",
        "plt.ylabel('true positive rate')\n",
        "plt.title('Receiver Operator Characteristic')\n",
        "plt.legend(loc='lower right')\n",
        "plt.grid(alpha=0.5)\n",
        "plt.show()"
      ],
      "metadata": {
        "colab": {
          "base_uri": "https://localhost:8080/",
          "height": 1000
        },
        "id": "PqoEPw6B0OOQ",
        "outputId": "303b99b1-7712-437f-e33e-225997d0ea6b"
      },
      "execution_count": 6,
      "outputs": [
        {
          "output_type": "stream",
          "name": "stderr",
          "text": [
            "<ipython-input-6-f9dcf8a4374e>:12: DeprecationWarning: scipy.interp is deprecated and will be removed in SciPy 2.0.0, use numpy.interp instead\n",
            "  mean_tpr_log+=interp(mean_fpr_log,fpr_log,tpr_log)\n",
            "<ipython-input-6-f9dcf8a4374e>:12: DeprecationWarning: scipy.interp is deprecated and will be removed in SciPy 2.0.0, use numpy.interp instead\n",
            "  mean_tpr_log+=interp(mean_fpr_log,fpr_log,tpr_log)\n",
            "<ipython-input-6-f9dcf8a4374e>:12: DeprecationWarning: scipy.interp is deprecated and will be removed in SciPy 2.0.0, use numpy.interp instead\n",
            "  mean_tpr_log+=interp(mean_fpr_log,fpr_log,tpr_log)\n",
            "<ipython-input-6-f9dcf8a4374e>:12: DeprecationWarning: scipy.interp is deprecated and will be removed in SciPy 2.0.0, use numpy.interp instead\n",
            "  mean_tpr_log+=interp(mean_fpr_log,fpr_log,tpr_log)\n",
            "<ipython-input-6-f9dcf8a4374e>:12: DeprecationWarning: scipy.interp is deprecated and will be removed in SciPy 2.0.0, use numpy.interp instead\n",
            "  mean_tpr_log+=interp(mean_fpr_log,fpr_log,tpr_log)\n",
            "<ipython-input-6-f9dcf8a4374e>:25: DeprecationWarning: scipy.interp is deprecated and will be removed in SciPy 2.0.0, use numpy.interp instead\n",
            "  mean_tpr_dt+=interp(mean_fpr_dt,fpr_dt,tpr_dt)\n",
            "<ipython-input-6-f9dcf8a4374e>:25: DeprecationWarning: scipy.interp is deprecated and will be removed in SciPy 2.0.0, use numpy.interp instead\n",
            "  mean_tpr_dt+=interp(mean_fpr_dt,fpr_dt,tpr_dt)\n",
            "<ipython-input-6-f9dcf8a4374e>:25: DeprecationWarning: scipy.interp is deprecated and will be removed in SciPy 2.0.0, use numpy.interp instead\n",
            "  mean_tpr_dt+=interp(mean_fpr_dt,fpr_dt,tpr_dt)\n",
            "<ipython-input-6-f9dcf8a4374e>:25: DeprecationWarning: scipy.interp is deprecated and will be removed in SciPy 2.0.0, use numpy.interp instead\n",
            "  mean_tpr_dt+=interp(mean_fpr_dt,fpr_dt,tpr_dt)\n",
            "<ipython-input-6-f9dcf8a4374e>:25: DeprecationWarning: scipy.interp is deprecated and will be removed in SciPy 2.0.0, use numpy.interp instead\n",
            "  mean_tpr_dt+=interp(mean_fpr_dt,fpr_dt,tpr_dt)\n",
            "<ipython-input-6-f9dcf8a4374e>:37: DeprecationWarning: scipy.interp is deprecated and will be removed in SciPy 2.0.0, use numpy.interp instead\n",
            "  mean_tpr_knn+=interp(mean_fpr_knn,fpr_knn,tpr_knn)\n",
            "<ipython-input-6-f9dcf8a4374e>:37: DeprecationWarning: scipy.interp is deprecated and will be removed in SciPy 2.0.0, use numpy.interp instead\n",
            "  mean_tpr_knn+=interp(mean_fpr_knn,fpr_knn,tpr_knn)\n",
            "<ipython-input-6-f9dcf8a4374e>:37: DeprecationWarning: scipy.interp is deprecated and will be removed in SciPy 2.0.0, use numpy.interp instead\n",
            "  mean_tpr_knn+=interp(mean_fpr_knn,fpr_knn,tpr_knn)\n",
            "<ipython-input-6-f9dcf8a4374e>:37: DeprecationWarning: scipy.interp is deprecated and will be removed in SciPy 2.0.0, use numpy.interp instead\n",
            "  mean_tpr_knn+=interp(mean_fpr_knn,fpr_knn,tpr_knn)\n",
            "<ipython-input-6-f9dcf8a4374e>:37: DeprecationWarning: scipy.interp is deprecated and will be removed in SciPy 2.0.0, use numpy.interp instead\n",
            "  mean_tpr_knn+=interp(mean_fpr_knn,fpr_knn,tpr_knn)\n",
            "<ipython-input-6-f9dcf8a4374e>:50: DeprecationWarning: scipy.interp is deprecated and will be removed in SciPy 2.0.0, use numpy.interp instead\n",
            "  mean_tpr_svc+=interp(mean_fpr_svc,fpr_svc,tpr_svc)\n",
            "<ipython-input-6-f9dcf8a4374e>:50: DeprecationWarning: scipy.interp is deprecated and will be removed in SciPy 2.0.0, use numpy.interp instead\n",
            "  mean_tpr_svc+=interp(mean_fpr_svc,fpr_svc,tpr_svc)\n",
            "<ipython-input-6-f9dcf8a4374e>:50: DeprecationWarning: scipy.interp is deprecated and will be removed in SciPy 2.0.0, use numpy.interp instead\n",
            "  mean_tpr_svc+=interp(mean_fpr_svc,fpr_svc,tpr_svc)\n",
            "<ipython-input-6-f9dcf8a4374e>:50: DeprecationWarning: scipy.interp is deprecated and will be removed in SciPy 2.0.0, use numpy.interp instead\n",
            "  mean_tpr_svc+=interp(mean_fpr_svc,fpr_svc,tpr_svc)\n",
            "<ipython-input-6-f9dcf8a4374e>:50: DeprecationWarning: scipy.interp is deprecated and will be removed in SciPy 2.0.0, use numpy.interp instead\n",
            "  mean_tpr_svc+=interp(mean_fpr_svc,fpr_svc,tpr_svc)\n",
            "<ipython-input-6-f9dcf8a4374e>:63: DeprecationWarning: scipy.interp is deprecated and will be removed in SciPy 2.0.0, use numpy.interp instead\n",
            "  mean_tpr_rfc+=interp(mean_fpr_rfc,fpr_rfc,tpr_rfc)\n",
            "<ipython-input-6-f9dcf8a4374e>:63: DeprecationWarning: scipy.interp is deprecated and will be removed in SciPy 2.0.0, use numpy.interp instead\n",
            "  mean_tpr_rfc+=interp(mean_fpr_rfc,fpr_rfc,tpr_rfc)\n",
            "<ipython-input-6-f9dcf8a4374e>:63: DeprecationWarning: scipy.interp is deprecated and will be removed in SciPy 2.0.0, use numpy.interp instead\n",
            "  mean_tpr_rfc+=interp(mean_fpr_rfc,fpr_rfc,tpr_rfc)\n",
            "<ipython-input-6-f9dcf8a4374e>:63: DeprecationWarning: scipy.interp is deprecated and will be removed in SciPy 2.0.0, use numpy.interp instead\n",
            "  mean_tpr_rfc+=interp(mean_fpr_rfc,fpr_rfc,tpr_rfc)\n",
            "<ipython-input-6-f9dcf8a4374e>:63: DeprecationWarning: scipy.interp is deprecated and will be removed in SciPy 2.0.0, use numpy.interp instead\n",
            "  mean_tpr_rfc+=interp(mean_fpr_rfc,fpr_rfc,tpr_rfc)\n",
            "/usr/local/lib/python3.9/dist-packages/sklearn/ensemble/_base.py:166: FutureWarning: `base_estimator` was renamed to `estimator` in version 1.2 and will be removed in 1.4.\n",
            "  warnings.warn(\n",
            "<ipython-input-6-f9dcf8a4374e>:76: DeprecationWarning: scipy.interp is deprecated and will be removed in SciPy 2.0.0, use numpy.interp instead\n",
            "  mean_tpr_ada+=interp(mean_fpr_ada,fpr_ada,tpr_ada)\n",
            "/usr/local/lib/python3.9/dist-packages/sklearn/ensemble/_base.py:166: FutureWarning: `base_estimator` was renamed to `estimator` in version 1.2 and will be removed in 1.4.\n",
            "  warnings.warn(\n",
            "<ipython-input-6-f9dcf8a4374e>:76: DeprecationWarning: scipy.interp is deprecated and will be removed in SciPy 2.0.0, use numpy.interp instead\n",
            "  mean_tpr_ada+=interp(mean_fpr_ada,fpr_ada,tpr_ada)\n",
            "/usr/local/lib/python3.9/dist-packages/sklearn/ensemble/_base.py:166: FutureWarning: `base_estimator` was renamed to `estimator` in version 1.2 and will be removed in 1.4.\n",
            "  warnings.warn(\n",
            "<ipython-input-6-f9dcf8a4374e>:76: DeprecationWarning: scipy.interp is deprecated and will be removed in SciPy 2.0.0, use numpy.interp instead\n",
            "  mean_tpr_ada+=interp(mean_fpr_ada,fpr_ada,tpr_ada)\n",
            "/usr/local/lib/python3.9/dist-packages/sklearn/ensemble/_base.py:166: FutureWarning: `base_estimator` was renamed to `estimator` in version 1.2 and will be removed in 1.4.\n",
            "  warnings.warn(\n",
            "<ipython-input-6-f9dcf8a4374e>:76: DeprecationWarning: scipy.interp is deprecated and will be removed in SciPy 2.0.0, use numpy.interp instead\n",
            "  mean_tpr_ada+=interp(mean_fpr_ada,fpr_ada,tpr_ada)\n",
            "/usr/local/lib/python3.9/dist-packages/sklearn/ensemble/_base.py:166: FutureWarning: `base_estimator` was renamed to `estimator` in version 1.2 and will be removed in 1.4.\n",
            "  warnings.warn(\n",
            "<ipython-input-6-f9dcf8a4374e>:76: DeprecationWarning: scipy.interp is deprecated and will be removed in SciPy 2.0.0, use numpy.interp instead\n",
            "  mean_tpr_ada+=interp(mean_fpr_ada,fpr_ada,tpr_ada)\n",
            "<ipython-input-6-f9dcf8a4374e>:89: DeprecationWarning: scipy.interp is deprecated and will be removed in SciPy 2.0.0, use numpy.interp instead\n",
            "  mean_tpr_gb+=interp(mean_fpr_gb,fpr_gb,tpr_gb)\n",
            "<ipython-input-6-f9dcf8a4374e>:89: DeprecationWarning: scipy.interp is deprecated and will be removed in SciPy 2.0.0, use numpy.interp instead\n",
            "  mean_tpr_gb+=interp(mean_fpr_gb,fpr_gb,tpr_gb)\n",
            "<ipython-input-6-f9dcf8a4374e>:89: DeprecationWarning: scipy.interp is deprecated and will be removed in SciPy 2.0.0, use numpy.interp instead\n",
            "  mean_tpr_gb+=interp(mean_fpr_gb,fpr_gb,tpr_gb)\n",
            "<ipython-input-6-f9dcf8a4374e>:89: DeprecationWarning: scipy.interp is deprecated and will be removed in SciPy 2.0.0, use numpy.interp instead\n",
            "  mean_tpr_gb+=interp(mean_fpr_gb,fpr_gb,tpr_gb)\n",
            "<ipython-input-6-f9dcf8a4374e>:89: DeprecationWarning: scipy.interp is deprecated and will be removed in SciPy 2.0.0, use numpy.interp instead\n",
            "  mean_tpr_gb+=interp(mean_fpr_gb,fpr_gb,tpr_gb)\n"
          ]
        },
        {
          "output_type": "display_data",
          "data": {
            "text/plain": [
              "<Figure size 504x360 with 1 Axes>"
            ],
            "image/png": "[encoded data removed]"
          },
          "metadata": {
            "needs_background": "light"
          }
        }
      ]
    },
    {
      "cell_type": "code",
      "source": [],
      "metadata": {
        "id": "iF_5XvVcECiD"
      },
      "execution_count": null,
      "outputs": []
    }
  ]
}