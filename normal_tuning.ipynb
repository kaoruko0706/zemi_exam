{
  "nbformat": 4,
  "nbformat_minor": 0,
  "metadata": {
    "colab": {
      "provenance": []
    },
    "kernelspec": {
      "name": "python3",
      "display_name": "Python 3"
    },
    "language_info": {
      "name": "python"
    }
  },
  "cells": [
    {
      "cell_type": "markdown",
      "source": [
        "ハイパーパラメータのチューニング過程を示しています。\n",
        "以下コードの概要\n",
        "\n",
        "\n",
        "1. データの前処理・オーバーサンプリング\n",
        "2. 機械学習に必要なライブラリの呼び出し\n",
        "3. 分類器の定義(パラメータはデフォルト値)\n",
        "4. LogisticRegressionのグリッドサーチ\n",
        "5. DecisionTreeのグリッドサーチ\n",
        "6. KNeighborのグリッドサーチ\n",
        "7. SVCのグリッドサーチ\n",
        "8. RandomForestのグリッドサーチ\n",
        "9. AdaBoostのグリッドサーチ\n",
        "10. GradientBoostのグリッドサーチ\n",
        "\n",
        "結論:SVCのチューニングは10時間以上待ってもチューニングが完了せず、ＰＣの処理能力が限界だったため諦めた。どの分類器もだが、特にチューニングにかかる計算コストが大きすぎることが課題となった。計算コスト要因には分割検証の分割数や、データセットのサンプル数、特徴量の数など考えられたが特徴量の数を減らすのが第一策であると判断した。\n",
        "\n",
        "\n",
        "\n"
      ],
      "metadata": {
        "id": "ugiWxObPr4GE"
      }
    },
    {
      "cell_type": "code",
      "execution_count": 1,
      "metadata": {
        "id": "L0IupaI-0X3W"
      },
      "outputs": [],
      "source": [
        "#データの前処理・オーバーサンプリング\n",
        "import pandas as pd\n",
        "import numpy as np\n",
        "import matplotlib.pyplot as plt\n",
        "from sklearn.model_selection import train_test_split\n",
        "from sklearn.preprocessing import StandardScaler\n",
        "df=pd.read_csv(\"train.csv\")\n",
        "df_dummy=pd.get_dummies(df[[\"job\",\"marital\",\"education\",\n",
        "                            \"default\",\"housing\",\"loan\",\n",
        "                            \"contact\",\"month\",\"poutcome\",\"subscribed\",\n",
        "                            \"age\",\"balance\",\"day\",\"previous\",\n",
        "                            \"duration\",\"campaign\",\"pdays\"]],drop_first=True)\n",
        "X,y=df_dummy.iloc[:,0:42],df_dummy.iloc[:,42].values\n",
        "X_train,X_test,y_train,y_test=train_test_split(X,y,test_size=0.3,random_state=1,stratify=y)\n",
        "sc=StandardScaler()\n",
        "X_train=sc.fit_transform(X_train)\n",
        "X_test=sc.fit_transform(X_test)\n",
        "from imblearn import FunctionSampler\n",
        "from imblearn.over_sampling import SMOTE\n",
        "from sklearn.datasets import make_classification\n",
        "sm = SMOTE(random_state=2)\n",
        "X_train_res, y_train_res = sm.fit_resample(X_train, y_train.ravel())"
      ]
    },
    {
      "cell_type": "code",
      "source": [
        "#機械学習に必要な分類器・グリッドサーチなどの呼び出し\n",
        "from sklearn.linear_model import LogisticRegression\n",
        "from sklearn.tree import DecisionTreeClassifier\n",
        "from sklearn.neighbors import KNeighborsClassifier\n",
        "from sklearn.svm import SVC\n",
        "from sklearn.ensemble import RandomForestClassifier\n",
        "from sklearn.ensemble import AdaBoostClassifier\n",
        "from sklearn.ensemble import GradientBoostingClassifier\n",
        "from sklearn.model_selection import cross_val_score\n",
        "from sklearn.model_selection import GridSearchCV"
      ],
      "metadata": {
        "id": "yev_F0ZF29XW"
      },
      "execution_count": 2,
      "outputs": []
    },
    {
      "cell_type": "code",
      "source": [
        "#分類器の定義：チューニング前なのでデフォルトの値に設定してある\n",
        "log=LogisticRegression(random_state=1)\n",
        "dt=DecisionTreeClassifier(random_state=1)\n",
        "knn=KNeighborsClassifier()\n",
        "svc=SVC(probability=True)\n",
        "rfc=RandomForestClassifier(random_state=1)\n",
        "ada=AdaBoostClassifier(base_estimator=dt,random_state=1)\n",
        "gb=GradientBoostingClassifier(random_state=1)"
      ],
      "metadata": {
        "id": "JZi2Dp_z3Byk"
      },
      "execution_count": 3,
      "outputs": []
    },
    {
      "cell_type": "code",
      "source": [
        "#logisticregressionのグリッドサーチ\n",
        "log_param={\"C\":[0.001,0.01,0.1,1,10,100,1000], \n",
        "       \"penalty\":[\"l1\",\"l2\"],\n",
        "       'solver' : ['lbfgs', 'liblinear']}\n",
        "log_cv=GridSearchCV(estimator=log,param_grid=log_param,cv=5,scoring=\"accuracy\")\n",
        "log_cv.fit(X_train_res,y_train_res)\n",
        "print(\"tuned hpyerparameters :(best parameters) \",log_cv.best_params_)\n",
        "print(\"accuracy :\",log_cv.best_score_)\n",
        "#tuned hpyerparameters :(best parameters)  {'C': 0.01, 'penalty': 'l2', 'solver': 'liblinear'}\n",
        "#accuracy : 0.8482764254281623"
      ],
      "metadata": {
        "id": "S1DFhfop3YA8"
      },
      "execution_count": null,
      "outputs": []
    },
    {
      "cell_type": "code",
      "source": [
        "#決定木でグリッドサーチ\n",
        "dt_param={'max_features': ['auto', 'sqrt', 'log2'],\n",
        "              'max_depth' : [3,5,7,None],\n",
        "              'criterion' :['gini', 'entropy',\"log_loss\"]}\n",
        "dt_cv=GridSearchCV(estimator=dt,param_grid=dt_param,\n",
        "                           cv=5,scoring=\"accuracy\",verbose=True)\n",
        "dt_cv.fit(X_train_res, y_train_res)\n",
        "\n",
        "print(\"tuned hpyerparameters :(best parameters) \",dt_cv.best_params_)\n",
        "print(\"accuracy :\",dt_cv.best_score_)\n",
        "#tuned hpyerparameters :(best parameters)  {'criterion': 'entropy', 'max_depth': None, 'max_features': 'auto'}\n",
        "#accuracy : 0.9020056468076799"
      ],
      "metadata": {
        "id": "7X78t_mJ4_HW"
      },
      "execution_count": null,
      "outputs": []
    },
    {
      "cell_type": "code",
      "source": [
        "#kneighborsでグリッドサーチ\n",
        "knn_param={\"n_neighbors\":list(range(1,11)),\n",
        "           \"weights\":[\"uniform\",\"distance\"]}\n",
        "knn_cv=GridSearchCV(estimator=knn,param_grid=knn_param,\n",
        "                    cv=5,scoring=\"accuracy\",verbose=True)\n",
        "knn_cv.fit(X_train_res, y_train_res)\n",
        "print(\"tuned hpyerparameters :(best parameters) \",knn_cv.best_params_)\n",
        "print(\"accuracy :\",knn_cv.best_score_)\n",
        "#tuned hpyerparameters :(best parameters)  {'n_neighbors': 1, 'weights': 'uniform'}\n",
        "#accuracy : 0.9481639928698751"
      ],
      "metadata": {
        "colab": {
          "base_uri": "https://localhost:8080/"
        },
        "id": "A9O5Fc2V7rln",
        "outputId": "c1d5a53b-f556-4b18-ffcc-300eabca6f37"
      },
      "execution_count": 6,
      "outputs": [
        {
          "output_type": "stream",
          "name": "stdout",
          "text": [
            "Fitting 5 folds for each of 20 candidates, totalling 100 fits\n",
            "tuned hpyerparameters :(best parameters)  {'n_neighbors': 6, 'weights': 'distance'}\n",
            "accuracy : 0.9950898671920827\n"
          ]
        }
      ]
    },
    {
      "cell_type": "code",
      "source": [
        "#SVCでグリッドサーチ　10時間以上かかってしまったので諦めました。\n",
        "svc_param={\"kernel\":[\"linear\",\"rbf\"],\n",
        "           \"C\":[0.01,1,100]}\n",
        "svc_cv=GridSearchCV(estimator=svc,param_grid=svc_param,\n",
        "                    cv=5,scoring=\"accuracy\",verbose=True)\n",
        "svc_cv.fit(X_train_res, y_train_res)\n",
        "print(\"tuned hpyerparameters :(best parameters) \",svc_cv.best_params_)\n",
        "print(\"accuracy :\",svc_cv.best_score_)"
      ],
      "metadata": {
        "id": "u0urpoY39hMm"
      },
      "execution_count": null,
      "outputs": []
    },
    {
      "cell_type": "code",
      "source": [
        "#randomforest グリッドサーチ\n",
        "rfc_param={'max_features':['auto','sqrt','log2'],\n",
        "           'max_depth' : [3,5,9,None],\n",
        "           'criterion' :['gini','entropy',\"log_loss\"],\n",
        "           \"n_estimators\":[50,100,200]}\n",
        "\n",
        "rfc_cv=GridSearchCV(estimator=rfc,param_grid=rfc_param,\n",
        "                           cv=5,scoring=\"accuracy\",verbose=True)\n",
        "rfc_cv.fit(X_train_res, y_train_res)\n",
        "print(\"tuned hpyerparameters :(best parameters) \",rfc_cv.best_params_)\n",
        "print(\"accuracy :\",rfc_cv.best_score_)\n",
        "#tuned hpyerparameters :(best parameters)  {'criterion': 'entropy', 'max_depth': None, 'max_features': 'log2', 'n_estimators': 200}\n",
        "#accuracy : 0.9475761369072904"
      ],
      "metadata": {
        "id": "cai_qmx3I43W"
      },
      "execution_count": null,
      "outputs": []
    },
    {
      "cell_type": "code",
      "source": [
        "#adaboost gridsearch\n",
        "ada_dt=DecisionTreeClassifier(criterion=\"entropy\",max_depth=9,max_features=\"log2\")\n",
        "ada_grid=AdaBoostClassifier(random_state=1,base_estimator=ada_dt)\n",
        "ada_param={\"n_estimators\":[50,100,200],\n",
        "           \"learning_rate\":[0.01,0.1,1]}\n",
        "ada_cv=GridSearchCV(estimator=ada_grid,param_grid=ada_param,\n",
        "                           cv=5,scoring=\"accuracy\",verbose=True)\n",
        "ada_cv.fit(X_train_res, y_train_res)\n",
        "print(\"tuned hpyerparameters :(best parameters) \",ada_cv.best_params_)\n",
        "print(\"accuracy :\",ada_cv.best_score_)\n",
        "#tuned hpyerparameters :(best parameters)  {'learning_rate': 1, 'n_estimators': 200}\n",
        "#accuracy : 0.9454282309645061"
      ],
      "metadata": {
        "id": "1Nz0v5cDJimO"
      },
      "execution_count": null,
      "outputs": []
    },
    {
      "cell_type": "code",
      "source": [
        "#gradientboost gridsearch\n",
        "gb_param={\"n_estimators\":[50,100,200,500],\n",
        "           \"max_depth\":[3,5,9],\n",
        "           \"learning_rate\":[0.01,0.1,1]}\n",
        "gb_cv=GridSearchCV(estimator=gb,param_grid=gb_param,\n",
        "                           cv=5,scoring=\"accuracy\",verbose=True)\n",
        "gb_cv.fit(X_train_res, y_train_res)\n",
        "print(\"tuned hpyerparameters :(best parameters) \",gb_cv.best_params_)\n",
        "print(\"accuracy :\",gb_cv.best_score_)\n",
        "#tuned hpyerparameters :(best parameters)  {'learning_rate': 0.1, 'max_depth': 9, 'n_estimators': 100}\n",
        "#accuracy : 0.925072565141198"
      ],
      "metadata": {
        "id": "GftmDQEFJnbq"
      },
      "execution_count": null,
      "outputs": []
    }
  ]
}